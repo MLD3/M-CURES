{
 "cells": [
  {
   "cell_type": "code",
   "execution_count": 1,
   "metadata": {},
   "outputs": [],
   "source": [
    "!mkdir -p data\n",
    "!mkdir -p data_input"
   ]
  },
  {
   "cell_type": "markdown",
   "metadata": {},
   "source": [
    "## Extract the same vital sign features for WSRT vitals from flowsheet"
   ]
  },
  {
   "cell_type": "code",
   "execution_count": 2,
   "metadata": {},
   "outputs": [],
   "source": [
    "import pandas as pd\n",
    "import numpy as np"
   ]
  },
  {
   "cell_type": "code",
   "execution_count": 3,
   "metadata": {},
   "outputs": [
    {
     "name": "stderr",
     "output_type": "stream",
     "text": [
      "/data4/tangsp/venv/lib/python3.7/site-packages/tqdm/std.py:668: FutureWarning: The Panel class is removed from pandas. Accessing it from the top-level namespace will also be removed in the next version\n",
      "  from pandas import Panel\n"
     ]
    }
   ],
   "source": [
    "from tqdm import tqdm\n",
    "tqdm.pandas()"
   ]
  },
  {
   "cell_type": "code",
   "execution_count": 4,
   "metadata": {},
   "outputs": [],
   "source": [
    "df_enc = pd.read_csv('./data_win/enc.csv').set_index('hosp_id')\n",
    "df_pop = pd.read_csv('./data_win/windows.csv').set_index('hosp_id')"
   ]
  },
  {
   "cell_type": "code",
   "execution_count": 5,
   "metadata": {},
   "outputs": [],
   "source": [
    "df = pd.read_pickle('./data_win/flow-2020_0701-win.p')"
   ]
  },
  {
   "cell_type": "code",
   "execution_count": 6,
   "metadata": {},
   "outputs": [],
   "source": [
    "vitals = {\n",
    "    307792: 'temperature',\n",
    "    307791:'heartrate',\n",
    "    307788:'respiratoryrate',\n",
    "    307834:'sbp',\n",
    "    307836:'dbp',\n",
    "    307927:'spo2',\n",
    "    355405:'gcs',\n",
    "    315753 :'rass',\n",
    "\n",
    "    #add 309233 and 307793\n",
    "    309233:'sbp&dbp',\n",
    "    307793:'sbp&dbp',\n",
    "}"
   ]
  },
  {
   "cell_type": "code",
   "execution_count": null,
   "metadata": {},
   "outputs": [],
   "source": [
    "df"
   ]
  },
  {
   "cell_type": "code",
   "execution_count": 8,
   "metadata": {},
   "outputs": [],
   "source": [
    "df_out = df[df['observationtermid'].isin(vitals)]"
   ]
  },
  {
   "cell_type": "code",
   "execution_count": null,
   "metadata": {},
   "outputs": [],
   "source": [
    "df_out"
   ]
  },
  {
   "cell_type": "code",
   "execution_count": 10,
   "metadata": {},
   "outputs": [],
   "source": [
    "# remove duplicated records\n",
    "df_out = df_out.drop_duplicates(['hosp_id', 't', 'observationtermid'], keep='first')"
   ]
  },
  {
   "cell_type": "code",
   "execution_count": 11,
   "metadata": {},
   "outputs": [],
   "source": [
    "df_pivoted = df_out.set_index(['hosp_id', 'window_id', 'window_t', \"t\", 'raw_t', 'observationtermid']).unstack()"
   ]
  },
  {
   "cell_type": "code",
   "execution_count": 12,
   "metadata": {},
   "outputs": [],
   "source": [
    "df_pivoted.columns = df_pivoted.columns.droplevel(0)"
   ]
  },
  {
   "cell_type": "raw",
   "metadata": {},
   "source": [
    "STATA code from Mike\n",
    "***blood pressure         \n",
    "gen sbp  = value if termid == 307834\n",
    "gen dbp  = value if termid == 307836\n",
    "replace sbp = ustrregexs(1) if ustrregexm(value, \"([0-9]+)[\\/]([0-9]+)\") == 1 & termid == 309233\n",
    "replace sbp = ustrregexs(1) if ustrregexm(value, \"([0-9]+)[\\/]([0-9]+)\") == 1 & termid == 307793\n",
    "replace dbp = ustrregexs(2) if ustrregexm(value, \"([0-9]+)[\\/]([0-9]+)\") == 1 & termid == 309233\n",
    "replace dbp = ustrregexs(2) if ustrregexm(value, \"([0-9]+)[\\/]([0-9]+)\") == 1 & termid == 307793\n",
    "\n",
    "***Other vitals\n",
    "gen temp = value if termid == 307792\n",
    "gen hr   = value if termid == 307791\n",
    "gen rr   = value if termid == 307788"
   ]
  },
  {
   "cell_type": "code",
   "execution_count": 13,
   "metadata": {},
   "outputs": [],
   "source": [
    "# Clean up blood pressure measurements\n",
    "df_pivoted[309233] = df_pivoted[309233].str.split('/').values\n",
    "df_pivoted[307793] = df_pivoted[307793].str.split('/').values"
   ]
  },
  {
   "cell_type": "code",
   "execution_count": 14,
   "metadata": {},
   "outputs": [],
   "source": [
    "def clean_up_sbp(row):\n",
    "    if type(row[307793]) is list:\n",
    "        return float(row[307793][0])\n",
    "    elif type(row[309233]) is list:\n",
    "        return float(row[309233][0])\n",
    "    else:\n",
    "        return float(row[307834])\n",
    "\n",
    "def clean_up_dbp(row):\n",
    "    if type(row[307793]) is list:\n",
    "        return float(row[307793][1])\n",
    "    elif type(row[309233]) is list:\n",
    "        return float(row[309233][1])\n",
    "    else:\n",
    "        return float(row[307836])"
   ]
  },
  {
   "cell_type": "code",
   "execution_count": 15,
   "metadata": {},
   "outputs": [
    {
     "name": "stderr",
     "output_type": "stream",
     "text": [
      "100%|██████████| 1560098/1560098 [08:07<00:00, 3201.90it/s]\n",
      "100%|██████████| 1560098/1560098 [07:39<00:00, 3393.12it/s]\n"
     ]
    }
   ],
   "source": [
    "# SBP\n",
    "df_pivoted[307834] = df_pivoted[[307834, 309233, 307793]].progress_apply(clean_up_sbp, axis=1)\n",
    "# DBP\n",
    "df_pivoted[307836] = df_pivoted[[307836, 309233, 307793]].progress_apply(clean_up_dbp, axis=1)"
   ]
  },
  {
   "cell_type": "code",
   "execution_count": 16,
   "metadata": {},
   "outputs": [],
   "source": [
    "df_pivoted = df_pivoted.drop(columns=[309233, 307793]).rename(columns=vitals)"
   ]
  },
  {
   "cell_type": "code",
   "execution_count": null,
   "metadata": {},
   "outputs": [],
   "source": [
    "df_pivoted"
   ]
  },
  {
   "cell_type": "code",
   "execution_count": 18,
   "metadata": {},
   "outputs": [],
   "source": [
    "df_pivoted.to_pickle('data/vitals-wide.p')"
   ]
  },
  {
   "cell_type": "raw",
   "metadata": {},
   "source": [
    "## Check"
   ]
  },
  {
   "cell_type": "raw",
   "metadata": {},
   "source": [
    "df_out[df_out['hosp_id'] == 501].head(20)"
   ]
  },
  {
   "cell_type": "raw",
   "metadata": {},
   "source": [
    "df_pivoted[df_pivoted.index.get_level_values(0) == 501].head()"
   ]
  },
  {
   "cell_type": "markdown",
   "metadata": {},
   "source": [
    "### Format IDs"
   ]
  },
  {
   "cell_type": "code",
   "execution_count": 19,
   "metadata": {},
   "outputs": [],
   "source": [
    "df_enc = pd.read_csv('./data_win/enc.csv').set_index('hosp_id')\n",
    "df_win = pd.read_csv('./data_win/windows_map.csv')"
   ]
  },
  {
   "cell_type": "code",
   "execution_count": 20,
   "metadata": {},
   "outputs": [],
   "source": [
    "df_pivoted.columns.name = 'observationtermid'"
   ]
  },
  {
   "cell_type": "code",
   "execution_count": 21,
   "metadata": {},
   "outputs": [],
   "source": [
    "df_vitals = df_pivoted.stack().rename('value').reset_index()"
   ]
  },
  {
   "cell_type": "code",
   "execution_count": null,
   "metadata": {},
   "outputs": [],
   "source": [
    "df_vitals"
   ]
  },
  {
   "cell_type": "code",
   "execution_count": 23,
   "metadata": {},
   "outputs": [],
   "source": [
    "df_vitals_ID = df_vitals.set_index(['hosp_id', 'window_id']).join(df_win.set_index(['hosp_id', 'window_id'])[['ID']]).reset_index()"
   ]
  },
  {
   "cell_type": "code",
   "execution_count": 24,
   "metadata": {},
   "outputs": [],
   "source": [
    "df_vitals_ID.to_pickle('data_input/vitals_ID.p')"
   ]
  },
  {
   "cell_type": "code",
   "execution_count": 25,
   "metadata": {},
   "outputs": [],
   "source": [
    "df = df_vitals_ID[['ID', 'window_t', 'observationtermid', 'value']] \\\n",
    ".rename(columns={'window_t': 't', 'observationtermid': 'variable_name', 'value': 'variable_value'})"
   ]
  },
  {
   "cell_type": "code",
   "execution_count": 26,
   "metadata": {},
   "outputs": [],
   "source": [
    "df.to_pickle('data_input/vitals.p')"
   ]
  },
  {
   "cell_type": "code",
   "execution_count": null,
   "metadata": {},
   "outputs": [],
   "source": [
    "df"
   ]
  },
  {
   "cell_type": "code",
   "execution_count": null,
   "metadata": {},
   "outputs": [],
   "source": []
  }
 ],
 "metadata": {
  "kernelspec": {
   "display_name": "Python 3",
   "language": "python",
   "name": "python3"
  },
  "language_info": {
   "codemirror_mode": {
    "name": "ipython",
    "version": 3
   },
   "file_extension": ".py",
   "mimetype": "text/x-python",
   "name": "python",
   "nbconvert_exporter": "python",
   "pygments_lexer": "ipython3",
   "version": "3.7.4"
  }
 },
 "nbformat": 4,
 "nbformat_minor": 4
}
