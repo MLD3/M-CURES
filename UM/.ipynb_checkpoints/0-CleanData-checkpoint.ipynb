{
 "cells": [
  {
   "cell_type": "markdown",
   "metadata": {},
   "source": [
    "## 1 - Windows"
   ]
  },
  {
   "cell_type": "code",
   "execution_count": 1,
   "metadata": {},
   "outputs": [],
   "source": [
    "!mkdir -p data_win"
   ]
  },
  {
   "cell_type": "code",
   "execution_count": 2,
   "metadata": {},
   "outputs": [],
   "source": [
    "import numpy as np\n",
    "import pandas as pd"
   ]
  },
  {
   "cell_type": "code",
   "execution_count": 3,
   "metadata": {},
   "outputs": [],
   "source": [
    "years = [2020] "
   ]
  },
  {
   "cell_type": "code",
   "execution_count": 4,
   "metadata": {},
   "outputs": [],
   "source": [
    "df = pd.read_csv('/data/covid/acute_dyspnea_data/2020_0701/encounters-master-2020.csv')\n",
    "df['hosp_id'] = df['hosp_id'].astype(int)\n",
    "df = df.set_index('hosp_id').sort_index()\n",
    "df = df[df['year'].isin(years)]"
   ]
  },
  {
   "cell_type": "code",
   "execution_count": 5,
   "metadata": {},
   "outputs": [],
   "source": [
    "# time column is the original t=0, which is the first vital sign measurement\n",
    "# convert that into number of minutes after 00:00\n",
    "df['TOD_zero'] = df['time'].apply(lambda s: int(s.split(':')[0])*60 + int(s.split(':')[1]))"
   ]
  },
  {
   "cell_type": "code",
   "execution_count": null,
   "metadata": {},
   "outputs": [],
   "source": [
    "df"
   ]
  },
  {
   "cell_type": "markdown",
   "metadata": {},
   "source": [
    "- 4h non-overlapping prediction windows: \n",
    "    - 1:00-4:59, 5:00-8:59, 9:00-12:59, 13:00-16:59, 17:00-20:59, 21:00-24:59\n",
    "- Define new **TIME ZERO** as the nearest previous prediction time\n",
    "    - for example, 11:14 would be mapped to 9:00"
   ]
  },
  {
   "cell_type": "code",
   "execution_count": 7,
   "metadata": {},
   "outputs": [],
   "source": [
    "TOD_first_h = 1\n",
    "window_size_h = 4\n",
    "prediction_times_h = np.array(range(TOD_first_h, 25, window_size_h))\n",
    "prediction_times = prediction_times_h * 60"
   ]
  },
  {
   "cell_type": "code",
   "execution_count": 8,
   "metadata": {},
   "outputs": [
    {
     "data": {
      "text/plain": [
       "(array([  60,  300,  540,  780, 1020, 1260]), array([ 1,  5,  9, 13, 17, 21]))"
      ]
     },
     "execution_count": 8,
     "metadata": {},
     "output_type": "execute_result"
    }
   ],
   "source": [
    "prediction_times, prediction_times_h"
   ]
  },
  {
   "cell_type": "code",
   "execution_count": 9,
   "metadata": {},
   "outputs": [
    {
     "data": {
      "text/plain": [
       "hosp_id\n",
       "63990    1345\n",
       "63991     601\n",
       "63992    1125\n",
       "63993     751\n",
       "63994    1434\n",
       "         ... \n",
       "74164     842\n",
       "74165    1327\n",
       "74166      71\n",
       "74167    1301\n",
       "74168    1223\n",
       "Name: TOD_zero, Length: 10178, dtype: int64"
      ]
     },
     "execution_count": 9,
     "metadata": {},
     "output_type": "execute_result"
    }
   ],
   "source": [
    "df['TOD_zero']"
   ]
  },
  {
   "cell_type": "code",
   "execution_count": 10,
   "metadata": {},
   "outputs": [],
   "source": [
    "# Find out which 4h window the current time zero belongs to \n",
    "# and set the left edge as the new time zero\n",
    "TOD_zero_h = df['TOD_zero'] / 60\n",
    "earlier_pred_time_h = ((TOD_zero_h - 1) // 4) * 4 + 1"
   ]
  },
  {
   "cell_type": "code",
   "execution_count": 11,
   "metadata": {},
   "outputs": [],
   "source": [
    "df['new_TOD_zero_h'] = earlier_pred_time_h\n",
    "df['new_TOD_zero'] = earlier_pred_time_h * 60"
   ]
  },
  {
   "cell_type": "code",
   "execution_count": 12,
   "metadata": {},
   "outputs": [],
   "source": [
    "# this is the num of minutes to add to all timstamps for each hosp_id\n",
    "df['time_zero_offset'] = (df['TOD_zero'].astype(int) - df['new_TOD_zero'].astype(int))"
   ]
  },
  {
   "cell_type": "code",
   "execution_count": 13,
   "metadata": {},
   "outputs": [],
   "source": [
    "# this offset is <4h because we took the nearest previous prediction time\n",
    "assert (df['time_zero_offset'] < (window_size_h*60)).all()"
   ]
  },
  {
   "cell_type": "code",
   "execution_count": 14,
   "metadata": {},
   "outputs": [],
   "source": [
    "df['new_discharge'] = df['length_min'] + df['time_zero_offset']"
   ]
  },
  {
   "cell_type": "code",
   "execution_count": null,
   "metadata": {},
   "outputs": [],
   "source": [
    "df.head(10)"
   ]
  },
  {
   "cell_type": "code",
   "execution_count": 16,
   "metadata": {},
   "outputs": [],
   "source": [
    "df.to_csv('data_win/enc.csv')"
   ]
  },
  {
   "cell_type": "code",
   "execution_count": 17,
   "metadata": {},
   "outputs": [],
   "source": [
    "df_windows = df.apply(lambda row: range(0, int(row['new_discharge']), window_size_h*60), axis=1)\n",
    "\n",
    "## DONT remove yet!!\n",
    "## remove window containing event and one window prior to event\n",
    "# df_windows = df_windows.apply(lambda row: row[:-2] if len(row) > 2 else [])\n",
    "\n",
    "df_windows = pd.DataFrame(df_windows.explode().rename('window_start'))"
   ]
  },
  {
   "cell_type": "code",
   "execution_count": 18,
   "metadata": {},
   "outputs": [],
   "source": [
    "df_windows['window_id'] = df_windows['window_start'] / (window_size_h*60)\n",
    "df_windows['window_end'] = df_windows['window_start'] + (window_size_h*60)"
   ]
  },
  {
   "cell_type": "code",
   "execution_count": 19,
   "metadata": {},
   "outputs": [
    {
     "data": {
      "text/html": [
       "<div>\n",
       "<style scoped>\n",
       "    .dataframe tbody tr th:only-of-type {\n",
       "        vertical-align: middle;\n",
       "    }\n",
       "\n",
       "    .dataframe tbody tr th {\n",
       "        vertical-align: top;\n",
       "    }\n",
       "\n",
       "    .dataframe thead th {\n",
       "        text-align: right;\n",
       "    }\n",
       "</style>\n",
       "<table border=\"1\" class=\"dataframe\">\n",
       "  <thead>\n",
       "    <tr style=\"text-align: right;\">\n",
       "      <th></th>\n",
       "      <th>window_start</th>\n",
       "      <th>window_id</th>\n",
       "      <th>window_end</th>\n",
       "    </tr>\n",
       "    <tr>\n",
       "      <th>hosp_id</th>\n",
       "      <th></th>\n",
       "      <th></th>\n",
       "      <th></th>\n",
       "    </tr>\n",
       "  </thead>\n",
       "  <tbody>\n",
       "    <tr>\n",
       "      <th>63990</th>\n",
       "      <td>0</td>\n",
       "      <td>0</td>\n",
       "      <td>240</td>\n",
       "    </tr>\n",
       "    <tr>\n",
       "      <th>63990</th>\n",
       "      <td>240</td>\n",
       "      <td>1</td>\n",
       "      <td>480</td>\n",
       "    </tr>\n",
       "    <tr>\n",
       "      <th>63990</th>\n",
       "      <td>480</td>\n",
       "      <td>2</td>\n",
       "      <td>720</td>\n",
       "    </tr>\n",
       "    <tr>\n",
       "      <th>63990</th>\n",
       "      <td>720</td>\n",
       "      <td>3</td>\n",
       "      <td>960</td>\n",
       "    </tr>\n",
       "    <tr>\n",
       "      <th>63990</th>\n",
       "      <td>960</td>\n",
       "      <td>4</td>\n",
       "      <td>1200</td>\n",
       "    </tr>\n",
       "    <tr>\n",
       "      <th>...</th>\n",
       "      <td>...</td>\n",
       "      <td>...</td>\n",
       "      <td>...</td>\n",
       "    </tr>\n",
       "    <tr>\n",
       "      <th>74168</th>\n",
       "      <td>72720</td>\n",
       "      <td>303</td>\n",
       "      <td>72960</td>\n",
       "    </tr>\n",
       "    <tr>\n",
       "      <th>74168</th>\n",
       "      <td>72960</td>\n",
       "      <td>304</td>\n",
       "      <td>73200</td>\n",
       "    </tr>\n",
       "    <tr>\n",
       "      <th>74168</th>\n",
       "      <td>73200</td>\n",
       "      <td>305</td>\n",
       "      <td>73440</td>\n",
       "    </tr>\n",
       "    <tr>\n",
       "      <th>74168</th>\n",
       "      <td>73440</td>\n",
       "      <td>306</td>\n",
       "      <td>73680</td>\n",
       "    </tr>\n",
       "    <tr>\n",
       "      <th>74168</th>\n",
       "      <td>73680</td>\n",
       "      <td>307</td>\n",
       "      <td>73920</td>\n",
       "    </tr>\n",
       "  </tbody>\n",
       "</table>\n",
       "<p>459902 rows × 3 columns</p>\n",
       "</div>"
      ],
      "text/plain": [
       "        window_start window_id window_end\n",
       "hosp_id                                  \n",
       "63990              0         0        240\n",
       "63990            240         1        480\n",
       "63990            480         2        720\n",
       "63990            720         3        960\n",
       "63990            960         4       1200\n",
       "...              ...       ...        ...\n",
       "74168          72720       303      72960\n",
       "74168          72960       304      73200\n",
       "74168          73200       305      73440\n",
       "74168          73440       306      73680\n",
       "74168          73680       307      73920\n",
       "\n",
       "[459902 rows x 3 columns]"
      ]
     },
     "execution_count": 19,
     "metadata": {},
     "output_type": "execute_result"
    }
   ],
   "source": [
    "df_windows"
   ]
  },
  {
   "cell_type": "code",
   "execution_count": 20,
   "metadata": {},
   "outputs": [],
   "source": [
    "df_windows['window_id'] = df_windows['window_id'].astype(int)"
   ]
  },
  {
   "cell_type": "code",
   "execution_count": 21,
   "metadata": {},
   "outputs": [],
   "source": [
    "df_windows['ID'] = df_windows.apply(lambda row: '%s-%s' % (str(row.name).rjust(5,'_'), str(row['window_id']).rjust(5,'_')), axis=1)"
   ]
  },
  {
   "cell_type": "code",
   "execution_count": 22,
   "metadata": {},
   "outputs": [],
   "source": [
    "df_windows[['window_id', 'window_start', 'window_end']].to_csv('data_win/windows.csv')"
   ]
  },
  {
   "cell_type": "code",
   "execution_count": 23,
   "metadata": {},
   "outputs": [],
   "source": [
    "df_windows[['window_id', 'window_start', 'window_end', 'ID']].to_csv('data_win/windows_map.csv')"
   ]
  },
  {
   "cell_type": "code",
   "execution_count": 24,
   "metadata": {},
   "outputs": [
    {
     "data": {
      "text/html": [
       "<div>\n",
       "<style scoped>\n",
       "    .dataframe tbody tr th:only-of-type {\n",
       "        vertical-align: middle;\n",
       "    }\n",
       "\n",
       "    .dataframe tbody tr th {\n",
       "        vertical-align: top;\n",
       "    }\n",
       "\n",
       "    .dataframe thead th {\n",
       "        text-align: right;\n",
       "    }\n",
       "</style>\n",
       "<table border=\"1\" class=\"dataframe\">\n",
       "  <thead>\n",
       "    <tr style=\"text-align: right;\">\n",
       "      <th></th>\n",
       "      <th>window_start</th>\n",
       "      <th>window_id</th>\n",
       "      <th>window_end</th>\n",
       "      <th>ID</th>\n",
       "    </tr>\n",
       "    <tr>\n",
       "      <th>hosp_id</th>\n",
       "      <th></th>\n",
       "      <th></th>\n",
       "      <th></th>\n",
       "      <th></th>\n",
       "    </tr>\n",
       "  </thead>\n",
       "  <tbody>\n",
       "    <tr>\n",
       "      <th>63990</th>\n",
       "      <td>0</td>\n",
       "      <td>0</td>\n",
       "      <td>240</td>\n",
       "      <td>63990-____0</td>\n",
       "    </tr>\n",
       "    <tr>\n",
       "      <th>63990</th>\n",
       "      <td>240</td>\n",
       "      <td>1</td>\n",
       "      <td>480</td>\n",
       "      <td>63990-____1</td>\n",
       "    </tr>\n",
       "    <tr>\n",
       "      <th>63990</th>\n",
       "      <td>480</td>\n",
       "      <td>2</td>\n",
       "      <td>720</td>\n",
       "      <td>63990-____2</td>\n",
       "    </tr>\n",
       "    <tr>\n",
       "      <th>63990</th>\n",
       "      <td>720</td>\n",
       "      <td>3</td>\n",
       "      <td>960</td>\n",
       "      <td>63990-____3</td>\n",
       "    </tr>\n",
       "    <tr>\n",
       "      <th>63990</th>\n",
       "      <td>960</td>\n",
       "      <td>4</td>\n",
       "      <td>1200</td>\n",
       "      <td>63990-____4</td>\n",
       "    </tr>\n",
       "    <tr>\n",
       "      <th>...</th>\n",
       "      <td>...</td>\n",
       "      <td>...</td>\n",
       "      <td>...</td>\n",
       "      <td>...</td>\n",
       "    </tr>\n",
       "    <tr>\n",
       "      <th>74168</th>\n",
       "      <td>72720</td>\n",
       "      <td>303</td>\n",
       "      <td>72960</td>\n",
       "      <td>74168-__303</td>\n",
       "    </tr>\n",
       "    <tr>\n",
       "      <th>74168</th>\n",
       "      <td>72960</td>\n",
       "      <td>304</td>\n",
       "      <td>73200</td>\n",
       "      <td>74168-__304</td>\n",
       "    </tr>\n",
       "    <tr>\n",
       "      <th>74168</th>\n",
       "      <td>73200</td>\n",
       "      <td>305</td>\n",
       "      <td>73440</td>\n",
       "      <td>74168-__305</td>\n",
       "    </tr>\n",
       "    <tr>\n",
       "      <th>74168</th>\n",
       "      <td>73440</td>\n",
       "      <td>306</td>\n",
       "      <td>73680</td>\n",
       "      <td>74168-__306</td>\n",
       "    </tr>\n",
       "    <tr>\n",
       "      <th>74168</th>\n",
       "      <td>73680</td>\n",
       "      <td>307</td>\n",
       "      <td>73920</td>\n",
       "      <td>74168-__307</td>\n",
       "    </tr>\n",
       "  </tbody>\n",
       "</table>\n",
       "<p>459902 rows × 4 columns</p>\n",
       "</div>"
      ],
      "text/plain": [
       "        window_start  window_id window_end           ID\n",
       "hosp_id                                                \n",
       "63990              0          0        240  63990-____0\n",
       "63990            240          1        480  63990-____1\n",
       "63990            480          2        720  63990-____2\n",
       "63990            720          3        960  63990-____3\n",
       "63990            960          4       1200  63990-____4\n",
       "...              ...        ...        ...          ...\n",
       "74168          72720        303      72960  74168-__303\n",
       "74168          72960        304      73200  74168-__304\n",
       "74168          73200        305      73440  74168-__305\n",
       "74168          73440        306      73680  74168-__306\n",
       "74168          73680        307      73920  74168-__307\n",
       "\n",
       "[459902 rows x 4 columns]"
      ]
     },
     "execution_count": 24,
     "metadata": {},
     "output_type": "execute_result"
    }
   ],
   "source": [
    "df_windows"
   ]
  },
  {
   "cell_type": "markdown",
   "metadata": {},
   "source": [
    "## 2 - Labels"
   ]
  },
  {
   "cell_type": "code",
   "execution_count": 25,
   "metadata": {},
   "outputs": [],
   "source": [
    "!mkdir -p labels"
   ]
  },
  {
   "cell_type": "code",
   "execution_count": 26,
   "metadata": {},
   "outputs": [],
   "source": [
    "import numpy as np\n",
    "import pandas as pd"
   ]
  },
  {
   "cell_type": "code",
   "execution_count": 27,
   "metadata": {},
   "outputs": [],
   "source": [
    "df = pd.read_csv('data_win/enc.csv').set_index('hosp_id')"
   ]
  },
  {
   "cell_type": "code",
   "execution_count": 28,
   "metadata": {},
   "outputs": [],
   "source": [
    "window_size_h = 4\n",
    "years = ['2020_0701']"
   ]
  },
  {
   "cell_type": "raw",
   "metadata": {},
   "source": [
    "for each hosp_id, \n",
    "identify the time of each outcome"
   ]
  },
  {
   "cell_type": "code",
   "execution_count": 30,
   "metadata": {},
   "outputs": [],
   "source": [
    "for year in years:\n",
    "    df_flow = pd.read_pickle('/data/covid/data_pkl/_flow%s.pkl' % year)\n",
    "    \n",
    "    ## HHFNC: heated high-flow nasal cannula\n",
    "    df_HHFNC = df_flow[(df_flow['observationtermid'] == 307923) & (df_flow['result'] == 'Nasal Cannula - Heated High Flow')]\n",
    "    df_HHFNC = df_HHFNC.drop_duplicates(subset=['hosp_id'], keep='first')\n",
    "    \n",
    "    df_HHFNC = df_HHFNC.set_index('hosp_id').join(df[['time_zero_offset']])\n",
    "    df_HHFNC['t'] = df_HHFNC['min'] + df_HHFNC['time_zero_offset']\n",
    "    df_HHFNC['window_id'] = df_HHFNC['t'] // (window_size_h*60)\n",
    "    df_HHFNC['window_t'] = df_HHFNC['t'] % (window_size_h*60)\n",
    "    \n",
    "    df_HHFNC = df_HHFNC.rename(columns={'t': 'HHFNC_time'})\n",
    "    df_HHFNC.to_csv('labels/HHFNC_{}.csv'.format(year))\n",
    "\n",
    "    ## Invasive mechanical ventilation\n",
    "    df_MechVent = df_flow[(\n",
    "        # Start of mechanical ventilation\n",
    "        ((df_flow['observationtermid'] == 313141) & (df_flow['result'] == 'Start'))\n",
    "\n",
    "        # A few specific modes of mechanical ventilation\n",
    "        | ((df_flow['observationtermid'] == 315640) & (df_flow['result'].isin([\n",
    "            \"PC-IMV+/BiLevel\", \"APRV\", \"PC/AC\", \"PC/IMV\", \"PC/PSV\", \"Tube compensation\", \n",
    "            \"VC+/AC\", \"VC+/IMV\", \"VC/AC\", \"VC/IMV\", \"VC/MMV\", \"PAV/PPS\"])))\n",
    "\n",
    "        # ED\n",
    "        | ((df_flow['observationtermid'] == 307923) & (df_flow['result'].isin([\n",
    "            'Ventilator - Emergency Department', 'Mechanical Ventilation - UH/CVC'])))\n",
    "    )]\n",
    "    df_MechVent = df_MechVent.drop_duplicates(subset=['hosp_id'], keep='first')\n",
    "    \n",
    "    df_MechVent = df_MechVent.set_index('hosp_id').join(df[['time_zero_offset']])\n",
    "    df_MechVent['t'] = df_MechVent['min'] + df_MechVent['time_zero_offset']\n",
    "    df_MechVent['window_id'] = df_MechVent['t'] // (window_size_h*60)\n",
    "    df_MechVent['window_t'] = df_MechVent['t'] % (window_size_h*60)\n",
    "    \n",
    "    df_MechVent = df_MechVent.rename(columns={'t': 'MechVent_time'})\n",
    "    df_MechVent.to_csv('labels/MechVent_{}.csv'.format(year))"
   ]
  },
  {
   "cell_type": "code",
   "execution_count": 31,
   "metadata": {},
   "outputs": [
    {
     "data": {
      "text/plain": [
       "76"
      ]
     },
     "execution_count": 31,
     "metadata": {},
     "output_type": "execute_result"
    }
   ],
   "source": [
    "vaso_ids = pd.read_csv('/data/covid/acute_dyspnea_data/vasopressors.csv')['medicationtermid'].values\n",
    "len(vaso_ids)"
   ]
  },
  {
   "cell_type": "code",
   "execution_count": 32,
   "metadata": {},
   "outputs": [],
   "source": [
    "for year in years:\n",
    "    df_meds = pd.read_pickle('/data/covid/data_pkl/_meds%s.pkl' % year)\n",
    "    \n",
    "    # Must be given with non-zero dose\n",
    "    df_meds = df_meds[(df_meds['ReasonNotGiven'].isnull()) & (df_meds['dose'] > 0)]\n",
    "    \n",
    "    ## IV vasopressors\n",
    "    df_VasoIV = df_meds[df_meds['medicationtermid'].isin(vaso_ids) & (df_meds['route'] == 'IV')]\n",
    "    df_VasoIV = df_meds[df_meds['medicationtermid'].isin(vaso_ids)]\n",
    "    df_VasoIV = df_VasoIV.drop_duplicates(subset=['hosp_id'], keep='first')\n",
    "    \n",
    "    df_VasoIV = df_VasoIV.set_index('hosp_id').join(df[['time_zero_offset']])\n",
    "    df_VasoIV['t'] = df_VasoIV['min'] + df_VasoIV['time_zero_offset']\n",
    "    df_VasoIV['window_id'] = df_VasoIV['t'] // (window_size_h*60)\n",
    "    df_VasoIV['window_t'] = df_VasoIV['t'] % (window_size_h*60)\n",
    "    \n",
    "    df_VasoIV = df_VasoIV.rename(columns={'t': 'VasoIV_time'})\n",
    "    df_VasoIV.to_csv('labels/VasoIV_{}.csv'.format(year))"
   ]
  },
  {
   "cell_type": "markdown",
   "metadata": {},
   "source": [
    "### 2.1 - post-OR flags"
   ]
  },
  {
   "cell_type": "code",
   "execution_count": 33,
   "metadata": {},
   "outputs": [],
   "source": [
    "for year in ['2020_0701']:\n",
    "    for label in ['HHFNC', 'MechVent', 'VasoIV']:  \n",
    "        try: \n",
    "            df_loc = pd.read_csv('/data/covid/acute_dyspnea_data/{}/location.csv'.format(year))\n",
    "        except: \n",
    "            df_loc = pd.read_csv('/data/covid/acute_dyspnea_data/{}/location-new.csv'.format(year))\n",
    "            print(year)\n",
    "        df_proc = df_loc.loc[df_loc['location']=='Procedure']\n",
    "        df_labels = pd.read_csv('labels/{}_{}.csv'.format(label, year))\n",
    "\n",
    "        in_OR_within_24_hrs_wrong = {}\n",
    "        times_in_OR_str = {}\n",
    "\n",
    "        in_OR_within_24_hrs = {}\n",
    "        times_in_OR_str = {}\n",
    "\n",
    "        for hosp_id in df_proc['hosp_id']:\n",
    "            if hosp_id in df_labels['hosp_id'].values:\n",
    "                times_in_OR = df_proc.loc[df_proc['hosp_id']==hosp_id]['min']\n",
    "                times_in_OR_str[hosp_id] = str(times_in_OR.values)\n",
    "                for time in times_in_OR:\n",
    "                    mv_time = (df_labels.loc[df_labels['hosp_id']==hosp_id]['{}_time'.format(label)]).values.item()\n",
    "                    if time <= mv_time <= (time + (24*60)):\n",
    "                        in_OR_within_24_hrs[hosp_id] = 1\n",
    "                        break\n",
    "                if hosp_id not in in_OR_within_24_hrs: \n",
    "                    in_OR_within_24_hrs[hosp_id] = 0\n",
    "\n",
    "        assert( len(in_OR_within_24_hrs) == len(set(df_proc['hosp_id']).intersection(df_labels['hosp_id'])) )\n",
    "\n",
    "        in_OR_within_24_hrs_col = []\n",
    "        times_in_OR_str_col = []\n",
    "        for hosp_id in df_labels['hosp_id']:\n",
    "            if hosp_id in in_OR_within_24_hrs:\n",
    "                in_OR_within_24_hrs_col.append(in_OR_within_24_hrs[hosp_id])\n",
    "                times_in_OR_str_col.append(times_in_OR_str[hosp_id])\n",
    "            else:\n",
    "                in_OR_within_24_hrs_col.append(0)\n",
    "                times_in_OR_str_col.append('no OR record')        \n",
    "\n",
    "        df_labels['in_OR_within_24_hrs'] = in_OR_within_24_hrs_col\n",
    "        df_labels['times_in_OR_str'] = times_in_OR_str_col\n",
    "        df_labels.to_csv('labels/{}_{}_with_OR_flags-FIXED.csv'.format(label, year))"
   ]
  },
  {
   "cell_type": "markdown",
   "metadata": {},
   "source": [
    "## 3 - Window data"
   ]
  },
  {
   "cell_type": "code",
   "execution_count": 34,
   "metadata": {},
   "outputs": [],
   "source": [
    "window_size_h = 4"
   ]
  },
  {
   "cell_type": "code",
   "execution_count": 35,
   "metadata": {},
   "outputs": [],
   "source": [
    "import numpy as np\n",
    "import pandas as pd"
   ]
  },
  {
   "cell_type": "code",
   "execution_count": 36,
   "metadata": {},
   "outputs": [],
   "source": [
    "years = ['2020_0701']"
   ]
  },
  {
   "cell_type": "code",
   "execution_count": 37,
   "metadata": {},
   "outputs": [],
   "source": [
    "df_enc = pd.read_csv('data_win/enc.csv').set_index('hosp_id')\n",
    "df_win = pd.read_csv('data_win/windows.csv').set_index('hosp_id')"
   ]
  },
  {
   "cell_type": "code",
   "execution_count": 38,
   "metadata": {},
   "outputs": [],
   "source": [
    "for year in years:\n",
    "    df_a = pd.read_pickle('/data/covid/data_pkl/meds-%s.pkl' % year)\n",
    "\n",
    "    # Filter outside the window records\n",
    "    df_a_ = df_a.set_index('hosp_id').join(df_enc[['time_zero_offset', 'new_discharge']], how='left')\n",
    "    df_a_['t'] = df_a_['min'] + df_a_['time_zero_offset']\n",
    "    df_a__ = df_a_[(df_a_['t'] >= 0) & (df_a_['t'] < df_a_['new_discharge'])]\n",
    "\n",
    "    # Must be given with non-zero dose\n",
    "    df_a__ = df_a__[(df_a__['ReasonNotGiven'].isnull()) & (df_a__['dose'] > 0)]\n",
    "    \n",
    "    # Calculate window index and t within window\n",
    "    df_a__['window_id'] = df_a__['t'] // (window_size_h*60)\n",
    "    df_a__['window_t'] = df_a__['t'] % (window_size_h*60)\n",
    "\n",
    "    # Save\n",
    "    df_a___ = df_a__.reset_index()[['hosp_id', 'window_id', 'window_t', 't', 'min', 'medicationtermid', 'dose', 'units', 'route']].rename(columns={'min':'raw_t'})\n",
    "    df_a___.to_pickle('data_win/meds-%s-win.p'%year)"
   ]
  },
  {
   "cell_type": "code",
   "execution_count": 39,
   "metadata": {},
   "outputs": [
    {
     "name": "stderr",
     "output_type": "stream",
     "text": [
      "/data4/tangsp/venv/lib/python3.7/site-packages/ipykernel_launcher.py:10: SettingWithCopyWarning: \n",
      "A value is trying to be set on a copy of a slice from a DataFrame.\n",
      "Try using .loc[row_indexer,col_indexer] = value instead\n",
      "\n",
      "See the caveats in the documentation: https://pandas.pydata.org/pandas-docs/stable/user_guide/indexing.html#returning-a-view-versus-a-copy\n",
      "  # Remove the CWD from sys.path while we load stuff.\n",
      "/data4/tangsp/venv/lib/python3.7/site-packages/ipykernel_launcher.py:11: SettingWithCopyWarning: \n",
      "A value is trying to be set on a copy of a slice from a DataFrame.\n",
      "Try using .loc[row_indexer,col_indexer] = value instead\n",
      "\n",
      "See the caveats in the documentation: https://pandas.pydata.org/pandas-docs/stable/user_guide/indexing.html#returning-a-view-versus-a-copy\n",
      "  # This is added back by InteractiveShellApp.init_path()\n"
     ]
    }
   ],
   "source": [
    "for year in years:\n",
    "    df_a = pd.read_pickle('/data/covid/data_pkl/labs-%s.pkl' % year)\n",
    "\n",
    "    # Filter outside the window records\n",
    "    df_a_ = df_a.set_index('hosp_id').join(df_enc[['time_zero_offset', 'new_discharge']], how='left')\n",
    "    df_a_['t'] = df_a_['obsmin'] + df_a_['time_zero_offset']\n",
    "    df_a__ = df_a_[(df_a_['t'] >= 0) & (df_a_['t'] < df_a_['new_discharge'])]\n",
    "\n",
    "    # Calculate window index and t within window\n",
    "    df_a__['window_id'] = df_a__['t'] // (window_size_h*60)\n",
    "    df_a__['window_t'] = df_a__['t'] % (window_size_h*60)\n",
    "\n",
    "    # Save\n",
    "    df_a___ = df_a__.reset_index()[['hosp_id', 'window_id', 'window_t', 't', 'obsmin', 'result_termid', 'value', 'hilonormal']].rename(columns={'obsmin':'raw_t', 'hilonormal': 'hilonormal_flag'})\n",
    "    df_a___.to_pickle('data_win/labs-%s-win.p'%year)"
   ]
  },
  {
   "cell_type": "code",
   "execution_count": 40,
   "metadata": {},
   "outputs": [
    {
     "name": "stderr",
     "output_type": "stream",
     "text": [
      "/data4/tangsp/venv/lib/python3.7/site-packages/ipykernel_launcher.py:10: SettingWithCopyWarning: \n",
      "A value is trying to be set on a copy of a slice from a DataFrame.\n",
      "Try using .loc[row_indexer,col_indexer] = value instead\n",
      "\n",
      "See the caveats in the documentation: https://pandas.pydata.org/pandas-docs/stable/user_guide/indexing.html#returning-a-view-versus-a-copy\n",
      "  # Remove the CWD from sys.path while we load stuff.\n",
      "/data4/tangsp/venv/lib/python3.7/site-packages/ipykernel_launcher.py:11: SettingWithCopyWarning: \n",
      "A value is trying to be set on a copy of a slice from a DataFrame.\n",
      "Try using .loc[row_indexer,col_indexer] = value instead\n",
      "\n",
      "See the caveats in the documentation: https://pandas.pydata.org/pandas-docs/stable/user_guide/indexing.html#returning-a-view-versus-a-copy\n",
      "  # This is added back by InteractiveShellApp.init_path()\n"
     ]
    }
   ],
   "source": [
    "for year in years:\n",
    "    df_flow = pd.read_pickle('/data/covid/data_pkl/flow-%s.pkl' % year)\n",
    "\n",
    "    # Filter outside the window records\n",
    "    df_flow_ = df_flow.set_index('hosp_id').join(df_enc[['time_zero_offset', 'new_discharge']], how='left')\n",
    "    df_flow_['t'] = df_flow_['min'] + df_flow_['time_zero_offset']\n",
    "    df_flow__ = df_flow_[(df_flow_['t'] >= 0) & (df_flow_['t'] < df_flow_['new_discharge'])]\n",
    "\n",
    "    # Calculate window index and t within window\n",
    "    df_flow__['window_id'] = df_flow__['t'] // (window_size_h*60)\n",
    "    df_flow__['window_t'] = df_flow__['t'] % (window_size_h*60)\n",
    "\n",
    "    # Save\n",
    "    df_flow___ = df_flow__.reset_index()[['hosp_id', 'window_id', 'window_t', 't', 'min', 'observationtermid', 'result']].rename(columns={'min':'raw_t'})\n",
    "    df_flow___.to_pickle('data_win/flow-%s-win.p'%year)"
   ]
  },
  {
   "cell_type": "code",
   "execution_count": null,
   "metadata": {},
   "outputs": [],
   "source": []
  }
 ],
 "metadata": {
  "kernelspec": {
   "display_name": "Python 3",
   "language": "python",
   "name": "python3"
  },
  "language_info": {
   "codemirror_mode": {
    "name": "ipython",
    "version": 3
   },
   "file_extension": ".py",
   "mimetype": "text/x-python",
   "name": "python",
   "nbconvert_exporter": "python",
   "pygments_lexer": "ipython3",
   "version": "3.7.4"
  }
 },
 "nbformat": 4,
 "nbformat_minor": 4
}
