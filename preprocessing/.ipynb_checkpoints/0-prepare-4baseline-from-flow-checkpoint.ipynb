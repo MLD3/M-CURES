{
 "cells": [
  {
   "cell_type": "code",
   "execution_count": 1,
   "metadata": {},
   "outputs": [],
   "source": [
    "!mkdir -p data\n",
    "!mkdir -p data_input"
   ]
  },
  {
   "cell_type": "markdown",
   "metadata": {},
   "source": [
    "## Extract the same vital sign features for WSRT vitals from flowsheet"
   ]
  },
  {
   "cell_type": "code",
   "execution_count": 2,
   "metadata": {},
   "outputs": [],
   "source": [
    "import pandas as pd\n",
    "import numpy as np\n",
    "from matplotlib import pyplot as plt "
   ]
  },
  {
   "cell_type": "code",
   "execution_count": 3,
   "metadata": {},
   "outputs": [
    {
     "name": "stderr",
     "output_type": "stream",
     "text": [
      "/data4/tangsp/venv/lib/python3.7/site-packages/tqdm/std.py:668: FutureWarning: The Panel class is removed from pandas. Accessing it from the top-level namespace will also be removed in the next version\n",
      "  from pandas import Panel\n"
     ]
    }
   ],
   "source": [
    "from tqdm import tqdm\n",
    "tqdm.pandas()"
   ]
  },
  {
   "cell_type": "markdown",
   "metadata": {},
   "source": [
    "# Train "
   ]
  },
  {
   "cell_type": "raw",
   "metadata": {},
   "source": [
    "# fio2 \n",
    "# fio2 = [307996, 308615] \n",
    "# ObservationTermID = '307923' AND value = 'None (Room air)' then FiO2 = 21\n",
    "# ObservationTermID =  '307928'  AND value = ‘1’ then FiO2 = 24\n",
    "# ObservationTermID =  '307928'  AND value = ‘2’ then FiO2 = 28\n",
    "# ObservationTermID =  '307928'  AND value = ‘3’ then FiO2 = 32\n",
    "# ObservationTermID =  '307928'  AND value = ‘4’ then FiO2 = 36"
   ]
  },
  {
   "cell_type": "code",
   "execution_count": 4,
   "metadata": {},
   "outputs": [],
   "source": [
    "vitals = {\n",
    "    307788:'respiratoryrate',\n",
    "    307927:'spo2',\n",
    "}\n",
    "\n",
    "# min - 21, max = 100 \n",
    "def calc_fio2(val):\n",
    "    return max(21, min(100, 24 + (float(val) - 1) * 4))\n",
    "\n",
    "def get_vitals_baseline(df):\n",
    "    \n",
    "    # repirate and spo02 \n",
    "    other_vitals = df[df['observationtermid'].isin(vitals)]\n",
    "    \n",
    "    # fio02 directly from data \n",
    "    fio2_orig = df[df['observationtermid'].isin([307996, 308615])]\n",
    "\n",
    "    # fio2 calculated \n",
    "    fio2_row = df[df['observationtermid'] == 307928]\n",
    "    # exclude those with fio2_cols value < 0.5, because this converts to < 21 which is not possible? \n",
    "    fio2_row = fio2_row[fio2_row['result'].astype(float) >= 0.5]\n",
    "    \n",
    "    assert(min(fio2_row['result'].astype(float)) == 0.5)\n",
    "    fio2_row['result'] = fio2_row['result'].apply(calc_fio2)\n",
    "    assert(np.min(fio2_row['result']) == 22)\n",
    "    room_air = df[(df['observationtermid'] == 307923) & (df['result'] == 'None (Room air)')]\n",
    "    room_air['result'] = 21\n",
    "    \n",
    "    df = pd.concat([fio2_orig, fio2_row, room_air, other_vitals])\n",
    "    return df "
   ]
  },
  {
   "cell_type": "code",
   "execution_count": 5,
   "metadata": {},
   "outputs": [],
   "source": [
    "# test\n",
    "df = pd.read_pickle('data_win/flow-2020_0701-win.p')\n",
    "test = get_vitals_baseline(df)"
   ]
  },
  {
   "cell_type": "code",
   "execution_count": 6,
   "metadata": {},
   "outputs": [],
   "source": [
    "# remove duplicated records \n",
    "test = test.drop_duplicates(['hosp_id', 't', 'observationtermid'], keep='first')"
   ]
  },
  {
   "cell_type": "code",
   "execution_count": 7,
   "metadata": {},
   "outputs": [],
   "source": [
    "# concatenate and finish before running through FIDDLE \n",
    "df_out = pd.concat([test])"
   ]
  },
  {
   "cell_type": "code",
   "execution_count": 8,
   "metadata": {},
   "outputs": [],
   "source": [
    "df_pivoted = df_out.set_index(['hosp_id', 'window_id', 'window_t', \"t\", 'raw_t', 'observationtermid']).unstack()"
   ]
  },
  {
   "cell_type": "code",
   "execution_count": 9,
   "metadata": {},
   "outputs": [],
   "source": [
    "df_pivoted.columns = df_pivoted.columns.droplevel(0)"
   ]
  },
  {
   "cell_type": "code",
   "execution_count": 10,
   "metadata": {},
   "outputs": [],
   "source": [
    "df_pivoted.to_pickle('data/4baseline-wide.p')"
   ]
  },
  {
   "cell_type": "markdown",
   "metadata": {},
   "source": [
    "### Format IDs"
   ]
  },
  {
   "cell_type": "code",
   "execution_count": 11,
   "metadata": {},
   "outputs": [],
   "source": [
    "df_pivoted = pd.read_pickle('data/4baseline-wide.p')"
   ]
  },
  {
   "cell_type": "code",
   "execution_count": 12,
   "metadata": {},
   "outputs": [],
   "source": [
    "# get ID column from windows_map \n",
    "win_test = pd.read_csv('data_win/windows_map.csv')\n",
    "enc_test = pd.read_csv('data_win/enc.csv')"
   ]
  },
  {
   "cell_type": "code",
   "execution_count": 13,
   "metadata": {},
   "outputs": [],
   "source": [
    "# only grab age from encounters\n",
    "df_enc = pd.concat([enc_test])[[\"age\"]]\n",
    "df_win = pd.concat([win_test])"
   ]
  },
  {
   "cell_type": "code",
   "execution_count": 14,
   "metadata": {},
   "outputs": [],
   "source": [
    "df_pivoted.columns.name = 'observationtermid'"
   ]
  },
  {
   "cell_type": "code",
   "execution_count": 15,
   "metadata": {},
   "outputs": [],
   "source": [
    "df_vitals = df_pivoted.stack().rename('value').reset_index()"
   ]
  },
  {
   "cell_type": "code",
   "execution_count": 16,
   "metadata": {},
   "outputs": [
    {
     "data": {
      "text/html": [
       "<div>\n",
       "<style scoped>\n",
       "    .dataframe tbody tr th:only-of-type {\n",
       "        vertical-align: middle;\n",
       "    }\n",
       "\n",
       "    .dataframe tbody tr th {\n",
       "        vertical-align: top;\n",
       "    }\n",
       "\n",
       "    .dataframe thead th {\n",
       "        text-align: right;\n",
       "    }\n",
       "</style>\n",
       "<table border=\"1\" class=\"dataframe\">\n",
       "  <thead>\n",
       "    <tr style=\"text-align: right;\">\n",
       "      <th></th>\n",
       "      <th></th>\n",
       "      <th>window_start</th>\n",
       "      <th>window_end</th>\n",
       "      <th>ID</th>\n",
       "    </tr>\n",
       "    <tr>\n",
       "      <th>hosp_id</th>\n",
       "      <th>window_id</th>\n",
       "      <th></th>\n",
       "      <th></th>\n",
       "      <th></th>\n",
       "    </tr>\n",
       "  </thead>\n",
       "  <tbody>\n",
       "    <tr>\n",
       "      <th rowspan=\"5\" valign=\"top\">63990</th>\n",
       "      <th>0</th>\n",
       "      <td>0</td>\n",
       "      <td>240</td>\n",
       "      <td>63990-____0</td>\n",
       "    </tr>\n",
       "    <tr>\n",
       "      <th>1</th>\n",
       "      <td>240</td>\n",
       "      <td>480</td>\n",
       "      <td>63990-____1</td>\n",
       "    </tr>\n",
       "    <tr>\n",
       "      <th>2</th>\n",
       "      <td>480</td>\n",
       "      <td>720</td>\n",
       "      <td>63990-____2</td>\n",
       "    </tr>\n",
       "    <tr>\n",
       "      <th>3</th>\n",
       "      <td>720</td>\n",
       "      <td>960</td>\n",
       "      <td>63990-____3</td>\n",
       "    </tr>\n",
       "    <tr>\n",
       "      <th>4</th>\n",
       "      <td>960</td>\n",
       "      <td>1200</td>\n",
       "      <td>63990-____4</td>\n",
       "    </tr>\n",
       "    <tr>\n",
       "      <th>...</th>\n",
       "      <th>...</th>\n",
       "      <td>...</td>\n",
       "      <td>...</td>\n",
       "      <td>...</td>\n",
       "    </tr>\n",
       "    <tr>\n",
       "      <th rowspan=\"5\" valign=\"top\">74168</th>\n",
       "      <th>303</th>\n",
       "      <td>72720</td>\n",
       "      <td>72960</td>\n",
       "      <td>74168-__303</td>\n",
       "    </tr>\n",
       "    <tr>\n",
       "      <th>304</th>\n",
       "      <td>72960</td>\n",
       "      <td>73200</td>\n",
       "      <td>74168-__304</td>\n",
       "    </tr>\n",
       "    <tr>\n",
       "      <th>305</th>\n",
       "      <td>73200</td>\n",
       "      <td>73440</td>\n",
       "      <td>74168-__305</td>\n",
       "    </tr>\n",
       "    <tr>\n",
       "      <th>306</th>\n",
       "      <td>73440</td>\n",
       "      <td>73680</td>\n",
       "      <td>74168-__306</td>\n",
       "    </tr>\n",
       "    <tr>\n",
       "      <th>307</th>\n",
       "      <td>73680</td>\n",
       "      <td>73920</td>\n",
       "      <td>74168-__307</td>\n",
       "    </tr>\n",
       "  </tbody>\n",
       "</table>\n",
       "<p>459902 rows × 3 columns</p>\n",
       "</div>"
      ],
      "text/plain": [
       "                   window_start  window_end           ID\n",
       "hosp_id window_id                                       \n",
       "63990   0                     0         240  63990-____0\n",
       "        1                   240         480  63990-____1\n",
       "        2                   480         720  63990-____2\n",
       "        3                   720         960  63990-____3\n",
       "        4                   960        1200  63990-____4\n",
       "...                         ...         ...          ...\n",
       "74168   303               72720       72960  74168-__303\n",
       "        304               72960       73200  74168-__304\n",
       "        305               73200       73440  74168-__305\n",
       "        306               73440       73680  74168-__306\n",
       "        307               73680       73920  74168-__307\n",
       "\n",
       "[459902 rows x 3 columns]"
      ]
     },
     "execution_count": 16,
     "metadata": {},
     "output_type": "execute_result"
    }
   ],
   "source": [
    "df_win.set_index(['hosp_id', 'window_id'])"
   ]
  },
  {
   "cell_type": "code",
   "execution_count": 17,
   "metadata": {},
   "outputs": [],
   "source": [
    "df_vitals_ID = df_vitals.set_index(['hosp_id', 'window_id']).join(df_win.set_index(['hosp_id', 'window_id'])[['ID']]).reset_index()"
   ]
  },
  {
   "cell_type": "code",
   "execution_count": 18,
   "metadata": {},
   "outputs": [],
   "source": [
    "df_vitals_ID.to_pickle('data_input/4baseline_ID.p')"
   ]
  },
  {
   "cell_type": "code",
   "execution_count": 19,
   "metadata": {},
   "outputs": [],
   "source": [
    "df = df_vitals_ID[['ID', 'window_t', 'observationtermid', 'value']] \\\n",
    ".rename(columns={'window_t': 't', 'observationtermid': 'variable_name', 'value': 'variable_value'})"
   ]
  },
  {
   "cell_type": "code",
   "execution_count": 20,
   "metadata": {},
   "outputs": [
    {
     "name": "stderr",
     "output_type": "stream",
     "text": [
      "/data4/tangsp/venv/lib/python3.7/site-packages/ipykernel_launcher.py:1: SettingWithCopyWarning: \n",
      "A value is trying to be set on a copy of a slice from a DataFrame\n",
      "\n",
      "See the caveats in the documentation: https://pandas.pydata.org/pandas-docs/stable/user_guide/indexing.html#returning-a-view-versus-a-copy\n",
      "  \"\"\"Entry point for launching an IPython kernel.\n",
      "/data4/tangsp/venv/lib/python3.7/site-packages/ipykernel_launcher.py:11: SettingWithCopyWarning: \n",
      "A value is trying to be set on a copy of a slice from a DataFrame\n",
      "\n",
      "See the caveats in the documentation: https://pandas.pydata.org/pandas-docs/stable/user_guide/indexing.html#returning-a-view-versus-a-copy\n",
      "  # This is added back by InteractiveShellApp.init_path()\n"
     ]
    }
   ],
   "source": [
    "df.variable_name[df.variable_name.isin([307923, 307996, 308615])] = 307928\n",
    "\n",
    "vitals = {\n",
    "    307788:'respiratoryrate',\n",
    "    307927:'spo2',\n",
    "    307928: 'fio2'\n",
    "}\n",
    "\n",
    "\n",
    "for val, name in vitals.items():\n",
    "    df.variable_name[df.variable_name == val] = name\n"
   ]
  },
  {
   "cell_type": "code",
   "execution_count": 21,
   "metadata": {},
   "outputs": [],
   "source": [
    "df.to_pickle('data_input/4baseline.p')"
   ]
  },
  {
   "cell_type": "raw",
   "metadata": {},
   "source": [
    "pop = df.ID.unique()"
   ]
  },
  {
   "cell_type": "raw",
   "metadata": {},
   "source": [
    "pop = pd.Series(pop, name = 'ID')\n",
    "pop.to_csv(\"data_input/pop.csv\")"
   ]
  },
  {
   "cell_type": "markdown",
   "metadata": {},
   "source": [
    "## Apply FIDDLE"
   ]
  },
  {
   "cell_type": "code",
   "execution_count": 24,
   "metadata": {},
   "outputs": [],
   "source": [
    "!mkdir out_4baseline"
   ]
  },
  {
   "cell_type": "code",
   "execution_count": 25,
   "metadata": {},
   "outputs": [
    {
     "name": "stdout",
     "output_type": "stream",
     "text": [
      "Input data file: ./data_input/4baseline.p\n",
      "\n",
      "Input arguments:\n",
      "    T      = 240\n",
      "    dt     = 240.0\n",
      "    θ₁     = 0.001\n",
      "    θ₂     = 0.001\n",
      "    θ_freq = 1.0\n",
      "    k      = 3 ['min', 'max', 'mean']\n",
      "binarize = yes\n",
      "\n",
      "N = 459902\n",
      "L = 1\n",
      "\n",
      "Done unstacking\n",
      "Done reindexing\n",
      "Time elapsed: 2.717582 seconds\n",
      "Done! Time elapsed: 3.247810 seconds\n"
     ]
    }
   ],
   "source": [
    "!python FIDDLE-transform-4baseline.py"
   ]
  },
  {
   "cell_type": "code",
   "execution_count": null,
   "metadata": {},
   "outputs": [],
   "source": []
  },
  {
   "cell_type": "markdown",
   "metadata": {},
   "source": [
    "# Load back in "
   ]
  },
  {
   "cell_type": "code",
   "execution_count": 26,
   "metadata": {},
   "outputs": [],
   "source": [
    "import joblib \n",
    "df = joblib.load(\"out_4baseline/sdf.joblib\")"
   ]
  },
  {
   "cell_type": "code",
   "execution_count": null,
   "metadata": {},
   "outputs": [],
   "source": [
    "df"
   ]
  },
  {
   "cell_type": "code",
   "execution_count": null,
   "metadata": {},
   "outputs": [],
   "source": []
  }
 ],
 "metadata": {
  "kernelspec": {
   "display_name": "Python 3",
   "language": "python",
   "name": "python3"
  },
  "language_info": {
   "codemirror_mode": {
    "name": "ipython",
    "version": 3
   },
   "file_extension": ".py",
   "mimetype": "text/x-python",
   "name": "python",
   "nbconvert_exporter": "python",
   "pygments_lexer": "ipython3",
   "version": "3.7.4"
  }
 },
 "nbformat": 4,
 "nbformat_minor": 4
}
