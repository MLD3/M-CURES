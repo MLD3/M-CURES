{
 "cells": [
  {
   "cell_type": "code",
   "execution_count": null,
   "metadata": {},
   "outputs": [],
   "source": [
    "import pandas as pd\n",
    "import numpy as np\n",
    "import joblib\n",
    "import sklearn\n",
    "from sklearn import metrics, utils, ensemble\n",
    "from joblib import Parallel, delayed\n",
    "import time \n",
    "import warnings\n",
    "warnings.filterwarnings('ignore')\n",
    "from tqdm import tqdm "
   ]
  },
  {
   "cell_type": "code",
   "execution_count": null,
   "metadata": {},
   "outputs": [],
   "source": [
    "###########\n",
    "# TODO: CHANGE INSTITUTION NAME\n",
    "institution = 'INSTITUTION'"
   ]
  },
  {
   "cell_type": "code",
   "execution_count": null,
   "metadata": {},
   "outputs": [],
   "source": [
    "# Input:  {INSTITUTION}-MASTER.csv\n",
    "# Output: {INSTITUTION}-lead_times.csv"
   ]
  },
  {
   "cell_type": "code",
   "execution_count": null,
   "metadata": {},
   "outputs": [],
   "source": [
    "# Loads in data\n",
    "master = pd.read_csv('{}-MASTER.csv'.format(institution))\n",
    "\n",
    "req_cols = set(['hosp_id', 'y', 'y_score_fourvar', 'y_score_mcures',\n",
    "                'y_scores_four_lst', 'y_scores_mcures_lst', 'race', 'age', 'sex', 'ethnicity',\n",
    "                'outcome', 'outcome_time', 'admission_date',\n",
    "                'final_time_min'])\n",
    "\n",
    "master = master[req_cols]"
   ]
  },
  {
   "cell_type": "code",
   "execution_count": null,
   "metadata": {},
   "outputs": [],
   "source": [
    "from ast import literal_eval\n",
    "master[\"y_scores_mcures_lst_\"] = master[\"y_scores_mcures_lst\"].apply(literal_eval)\n",
    "master[\"y_scores_mcures_lst_eval1\"] = master[\"y_scores_mcures_lst_\"].apply(lambda L: L[1:]) # Exclude first window"
   ]
  },
  {
   "cell_type": "code",
   "execution_count": null,
   "metadata": {},
   "outputs": [],
   "source": [
    "# Extract relevant data from master table\n",
    "all_scores = [np.array(x) for x in master[\"y_scores_mcures_lst_eval1\"].values]\n",
    "all_thresholds = np.sort(np.unique(master['y_score_mcures']))\n",
    "max_scores = master['y_score_mcures']\n",
    "final_times = master['outcome_time'].astype(float)\n",
    "y = master['y'].astype(int)\n",
    "\n",
    "# Sweep through all unique score thresholds\n",
    "# Save the following quantities for each threshold\n",
    "# - PPV\n",
    "# - TPR\n",
    "# - proportion of patients who were flagged positive at this threshold\n",
    "# - list of all lead times of those that were flagged positive at this threshold\n",
    "ppvs = []\n",
    "tprs = []\n",
    "props = []\n",
    "all_lead_times = []\n",
    "\n",
    "for thresh in tqdm([0] + list(all_thresholds) + [1]): \n",
    "    lead_times = []\n",
    "    num_positive = 0\n",
    "    \n",
    "    # loop through all the patients\n",
    "    for i in range(len(max_scores)):\n",
    "        y_i = y[i]\n",
    "        scores_i = all_scores[i]\n",
    "        final_time_i = final_times[i]\n",
    "        if sum(scores_i >= thresh) > 0 and y_i == 1: \n",
    "            first_window = np.argwhere(scores_i >= thresh).reshape(-1)[0] + 1 # add one back because we took out the first window\n",
    "            time_of_first_window = ((first_window * 4) + 4) * 60  # in minutes, add four hours because the 0th window prediction occurs at 4h\n",
    "            lead_times.append(int(final_time_i - time_of_first_window)) # cast to integer minutes\n",
    "            num_positive += 1\n",
    "            \n",
    "    tprs.append(num_positive / sum(y))\n",
    "    ppvs.append(num_positive / (max_scores >= thresh).sum())\n",
    "            \n",
    "    num_marked = (max_scores >= thresh).mean()\n",
    "    props.append(num_marked)\n",
    "\n",
    "    if len(lead_times) > 0: \n",
    "        all_lead_times.append(lead_times)\n",
    "    else: \n",
    "        all_lead_times.append([0])"
   ]
  },
  {
   "cell_type": "code",
   "execution_count": null,
   "metadata": {},
   "outputs": [],
   "source": [
    "# Helper function for rounding numbers in nested list\n",
    "def round_nested_list(lst, num=3):\n",
    "    if isinstance(lst, str) or isinstance(lst, int):\n",
    "        return lst\n",
    "    elif isinstance(lst, float):\n",
    "        return round(lst, num) # '%.{}f'.format(num) %lst\n",
    "    else:\n",
    "        return [round_nested_list(i) for i in lst]"
   ]
  },
  {
   "cell_type": "code",
   "execution_count": null,
   "metadata": {},
   "outputs": [],
   "source": [
    "# Save output\n",
    "to_save_dct = {\n",
    "    'PPVs': list(ppvs), \n",
    "    'TPRs': list(tprs), \n",
    "    'Proportion Flagged': list(props), \n",
    "    'Lead Times': list(all_lead_times),\n",
    "}\n",
    "df_results = pd.DataFrame(to_save_dct)\n",
    "\n",
    "df_results['Lead Times'] = df_results['Lead Times'].astype(str)\n",
    "\n",
    "# Round all numbers to 3 decimal places\n",
    "for col in df_results.columns:\n",
    "    df_results[col] = df_results[col].apply(round_nested_list)\n",
    "\n",
    "df_results.to_csv('{}-lead_times.csv'.format(institution), index=False, float_format='%.3f')"
   ]
  },
  {
   "cell_type": "code",
   "execution_count": null,
   "metadata": {},
   "outputs": [],
   "source": []
  }
 ],
 "metadata": {
  "kernelspec": {
   "display_name": "Python 3 (ipykernel)",
   "language": "python",
   "name": "python3"
  },
  "language_info": {
   "codemirror_mode": {
    "name": "ipython",
    "version": 3
   },
   "file_extension": ".py",
   "mimetype": "text/x-python",
   "name": "python",
   "nbconvert_exporter": "python",
   "pygments_lexer": "ipython3",
   "version": "3.9.7"
  }
 },
 "nbformat": 4,
 "nbformat_minor": 4
}
