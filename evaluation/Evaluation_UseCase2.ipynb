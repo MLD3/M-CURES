{
 "cells": [
  {
   "cell_type": "code",
   "execution_count": null,
   "metadata": {},
   "outputs": [],
   "source": [
    "import json\n",
    "import pandas as pd\n",
    "import numpy as np\n",
    "import joblib\n",
    "import scipy\n",
    "import pickle"
   ]
  },
  {
   "cell_type": "code",
   "execution_count": null,
   "metadata": {},
   "outputs": [],
   "source": [
    "## This notebook assumes: \n",
    "#1: The loaded outcome is if the outcome happens ever, as opposed to the other evaluation, which was focused on the first 5 days\n",
    "#2: num_windows is the number of hours // 4 in which we want to make the triaging decision. Our default is making predictions using 48 hours of data to triage\n",
    "\n",
    "num_windows = 12"
   ]
  },
  {
   "cell_type": "code",
   "execution_count": null,
   "metadata": {},
   "outputs": [],
   "source": [
    "models_dict = joblib.load('models_dict.joblib')\n",
    "models_dict.keys()"
   ]
  },
  {
   "cell_type": "code",
   "execution_count": null,
   "metadata": {},
   "outputs": [],
   "source": [
    "df_cohort = pd.read_csv('sample_cohort_outcome_past_2days.csv')\n",
    "\n",
    "df_cohort = df_cohort[df_cohort['window_id'] < num_windows]\n",
    "test_hosp, test_window, test_y = df_cohort['hosp_id'], df_cohort['window_id'], df_cohort['y']\n",
    "\n",
    "cohort_IDs = df_cohort.set_index('ID')[[]]"
   ]
  },
  {
   "cell_type": "code",
   "execution_count": null,
   "metadata": {},
   "outputs": [],
   "source": [
    "len(np.unique(test_hosp))"
   ]
  },
  {
   "cell_type": "markdown",
   "metadata": {},
   "source": [
    "## Simple Model"
   ]
  },
  {
   "cell_type": "code",
   "execution_count": null,
   "metadata": {},
   "outputs": [],
   "source": [
    "baseline_clfs = models_dict['Baseline']\n",
    "df_baseline = pd.read_csv('../preprocessing/sample_output/baseline.csv').set_index('ID')"
   ]
  },
  {
   "cell_type": "code",
   "execution_count": null,
   "metadata": {},
   "outputs": [],
   "source": [
    "eval_matrix = scipy.sparse.csr_matrix(cohort_IDs.join(df_baseline).values.astype(float))\n",
    "all_y = np.array([clf.predict_proba(eval_matrix)[:,1] for clf in baseline_clfs])\n",
    "y_scores = all_y.mean(0)\n",
    "\n",
    "df_Yte_all = pd.DataFrame({'hosp_id': test_hosp, 'window_id': test_window, 'y': test_y, 'y_score': y_scores})\n",
    "df_Yte_agg = df_Yte_all.groupby('hosp_id').mean() #Can be changed to max, depending on how we want to aggregate scores"
   ]
  },
  {
   "cell_type": "code",
   "execution_count": null,
   "metadata": {},
   "outputs": [],
   "source": [
    "scores = np.sort(df_Yte_agg['y_score'])\n",
    "total_negs = df_Yte_agg['y']\n",
    "for s in scores: \n",
    "    curr = df_Yte_agg[df_Yte_agg['y_score'] <= s]\n",
    "    #How many people do we flag with a perfect NPV (i.e. 0 people we flagged have the event)\n",
    "    if 1 - curr['y'].mean() == 1.0: \n",
    "        print('NPV: {:.2f}, Population % Flagged {:.2%}'.format(1 - curr['y'].mean(), curr.shape[0] / len(scores))\n",
    "        latest = curr\n"
   ]
  },
  {
   "cell_type": "markdown",
   "metadata": {},
   "source": [
    "## Sweep over NPV"
   ]
  },
  {
   "cell_type": "code",
   "execution_count": null,
   "metadata": {},
   "outputs": [],
   "source": [
    "scores = np.sort(df_Yte_agg['result'])\n",
    "baseline_npvs = []\n",
    "baseline_flagged = []\n",
    "\n",
    "for s in scores: \n",
    "    curr = df_Yte_agg[df_Yte_agg['y_score'] <= s]\n",
    "    baseline_npvs.append(1 - curr['y'].mean())\n",
    "    baseline_flagged.append(curr.shape[0] / len(scores))\n",
    "    \n",
    "fig, ax = plt.subplots(figsize=(3.5, 3.5))\n",
    "\n",
    "plt.plot(baseline_flagged, baseline_npvs, label = 'Simple Model', lw = 1.25)\n",
    "\n",
    "plt.xlabel('Percentage Flagged as Low-Risk')\n",
    "plt.ylabel('Negative Predictive Value')"
   ]
  }
 ],
 "metadata": {
  "kernelspec": {
   "display_name": "Python 3",
   "language": "python",
   "name": "python3"
  },
  "language_info": {
   "codemirror_mode": {
    "name": "ipython",
    "version": 3
   },
   "file_extension": ".py",
   "mimetype": "text/x-python",
   "name": "python",
   "nbconvert_exporter": "python",
   "pygments_lexer": "ipython3",
   "version": "3.7.4"
  }
 },
 "nbformat": 4,
 "nbformat_minor": 4
}
