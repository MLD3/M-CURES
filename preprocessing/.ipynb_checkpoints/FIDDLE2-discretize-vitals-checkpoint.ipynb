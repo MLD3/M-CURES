{
 "cells": [
  {
   "cell_type": "code",
   "execution_count": 1,
   "metadata": {},
   "outputs": [],
   "source": [
    "import joblib\n",
    "import pandas as pd\n",
    "import numpy as np\n",
    "import sparse\n",
    "import json"
   ]
  },
  {
   "cell_type": "markdown",
   "metadata": {},
   "source": [
    "### Vitals"
   ]
  },
  {
   "cell_type": "code",
   "execution_count": 2,
   "metadata": {},
   "outputs": [
    {
     "data": {
      "text/plain": [
       "30"
      ]
     },
     "execution_count": 2,
     "metadata": {},
     "output_type": "execute_result"
    }
   ],
   "source": [
    "df_time_series = joblib.load('out_vitals/df_time_series.joblib')\n",
    "discretization_bins = json.load(open('/data/covid/process_data/FIDDLE_2018-2019/out_vitals/discretization.json', 'r'))\n",
    "feature_names = json.load(open('/data/covid/process_data/FIDDLE_2018-2019/out_vitals/X_all.feature_names.json', 'r'))\n",
    "len(discretization_bins)"
   ]
  },
  {
   "cell_type": "code",
   "execution_count": 3,
   "metadata": {},
   "outputs": [],
   "source": [
    "cols_useful = list(discretization_bins.keys())"
   ]
  },
  {
   "cell_type": "code",
   "execution_count": 4,
   "metadata": {},
   "outputs": [],
   "source": [
    "df_time_series = df_time_series[cols_useful]"
   ]
  },
  {
   "cell_type": "code",
   "execution_count": null,
   "metadata": {},
   "outputs": [],
   "source": [
    "df_time_series"
   ]
  },
  {
   "cell_type": "code",
   "execution_count": null,
   "metadata": {},
   "outputs": [],
   "source": []
  },
  {
   "cell_type": "code",
   "execution_count": 6,
   "metadata": {},
   "outputs": [],
   "source": [
    "from steps_2 import *\n",
    "from helpers import *"
   ]
  },
  {
   "cell_type": "code",
   "execution_count": 7,
   "metadata": {},
   "outputs": [],
   "source": [
    "df = df_time_series"
   ]
  },
  {
   "cell_type": "raw",
   "metadata": {},
   "source": [
    "df_by_cols = [df[col] for col in df.columns]\n",
    "out_0 = [smart_qcut_bins(x, discretization_bins[x.name]) for x in tqdm(df_by_cols)]\n",
    "cols_data, dis_bins = zip(*out_0)\n",
    "out = [dummify(z) for z in tqdm(cols_data)]"
   ]
  },
  {
   "cell_type": "code",
   "execution_count": 8,
   "metadata": {},
   "outputs": [
    {
     "name": "stderr",
     "output_type": "stream",
     "text": [
      "100%|██████████| 30/30 [00:22<00:00,  1.33it/s]\n",
      "100%|██████████| 30/30 [00:12<00:00,  2.35it/s]\n"
     ]
    }
   ],
   "source": [
    "pool = multiprocessing.Pool(multiprocessing.cpu_count())\n",
    "out_0 = list(tqdm(pool.imap_unordered(\n",
    "    smart_qcut_bins,\n",
    "    [(df[col], discretization_bins[col]) for col in df.columns]), total=len(df.columns)\n",
    "))\n",
    "cols_data, dis_bins = zip(*out_0)\n",
    "out = list(tqdm(pool.imap_unordered(dummify, cols_data), total=len(df.columns)\n",
    "))\n",
    "pool.close()\n",
    "pool.join()"
   ]
  },
  {
   "cell_type": "code",
   "execution_count": 9,
   "metadata": {},
   "outputs": [],
   "source": [
    "df_features = pd.concat(out, axis=1).sort_index(axis=1)"
   ]
  },
  {
   "cell_type": "code",
   "execution_count": 10,
   "metadata": {},
   "outputs": [],
   "source": [
    "# Drop any values='missing' for now\n",
    "df_features = df_features.loc[:, [col for col in df_features.columns if 'missing' not in col]]"
   ]
  },
  {
   "cell_type": "code",
   "execution_count": 11,
   "metadata": {},
   "outputs": [
    {
     "data": {
      "text/plain": [
       "True"
      ]
     },
     "execution_count": 11,
     "metadata": {},
     "output_type": "execute_result"
    }
   ],
   "source": [
    "# Make sure same features\n",
    "set(df_features.columns) <= set(feature_names)"
   ]
  },
  {
   "cell_type": "code",
   "execution_count": 12,
   "metadata": {},
   "outputs": [],
   "source": [
    "df_features = df_features.reindex(columns=feature_names, fill_value=0)"
   ]
  },
  {
   "cell_type": "code",
   "execution_count": null,
   "metadata": {},
   "outputs": [],
   "source": [
    "df_features"
   ]
  },
  {
   "cell_type": "code",
   "execution_count": 14,
   "metadata": {},
   "outputs": [],
   "source": [
    "sdf = df_features.astype(pd.SparseDtype(int, fill_value=0))\n",
    "X_all = sparse.COO(sdf.sparse.to_coo())"
   ]
  },
  {
   "cell_type": "code",
   "execution_count": null,
   "metadata": {},
   "outputs": [],
   "source": []
  },
  {
   "cell_type": "code",
   "execution_count": 15,
   "metadata": {},
   "outputs": [],
   "source": [
    "sparse.save_npz('out_vitals/X_all.npz', X_all)\n",
    "df_time_series[[]].to_csv('out_vitals/X_all.IDs.csv')\n",
    "# json.dump(list(X_all_feature_names), open('out_meds/X_all.feature_names.json', 'w'), sort_keys=True)\n",
    "# json.dump(discretization_bins, open('out_meds/discretization.json', 'w'))"
   ]
  },
  {
   "cell_type": "code",
   "execution_count": null,
   "metadata": {},
   "outputs": [],
   "source": []
  }
 ],
 "metadata": {
  "kernelspec": {
   "display_name": "Python 3",
   "language": "python",
   "name": "python3"
  },
  "language_info": {
   "codemirror_mode": {
    "name": "ipython",
    "version": 3
   },
   "file_extension": ".py",
   "mimetype": "text/x-python",
   "name": "python",
   "nbconvert_exporter": "python",
   "pygments_lexer": "ipython3",
   "version": "3.7.4"
  }
 },
 "nbformat": 4,
 "nbformat_minor": 4
}
