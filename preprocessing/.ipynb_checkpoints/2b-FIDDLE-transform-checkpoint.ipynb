{
 "cells": [
  {
   "cell_type": "code",
   "execution_count": 1,
   "metadata": {},
   "outputs": [],
   "source": [
    "!mkdir -p out_meds\n",
    "!mkdir -p out_labs\n",
    "!mkdir -p out_vitals\n",
    "!mkdir -p out_flow"
   ]
  },
  {
   "cell_type": "code",
   "execution_count": 2,
   "metadata": {},
   "outputs": [
    {
     "name": "stdout",
     "output_type": "stream",
     "text": [
      "Input data file: ./data_input/labs.p\n",
      "\n",
      "Input arguments:\n",
      "    T      = 240\n",
      "    dt     = 240.0\n",
      "    θ₁     = 0.001\n",
      "    θ₂     = 0.001\n",
      "    θ_freq = 1.0\n",
      "    k      = 3 ['min', 'max', 'mean']\n",
      "binarize = yes\n",
      "\n",
      "N = 459902\n",
      "L = 1\n",
      "\n",
      "Done unstacking\n",
      "Done reindexing\n",
      "Time elapsed: 265.299769 seconds\n"
     ]
    }
   ],
   "source": [
    "!python FIDDLE-transform-labs.py"
   ]
  },
  {
   "cell_type": "code",
   "execution_count": 3,
   "metadata": {},
   "outputs": [
    {
     "name": "stdout",
     "output_type": "stream",
     "text": [
      "Input data file: ./data_input/meds.p\n",
      "\n",
      "Input arguments:\n",
      "    T      = 240\n",
      "    dt     = 240.0\n",
      "    θ₁     = 0.001\n",
      "    θ₂     = 0.001\n",
      "    θ_freq = 1.0\n",
      "    k      = 3 ['min', 'max', 'mean']\n",
      "binarize = yes\n",
      "\n",
      "N = 459902\n",
      "L = 1\n",
      "\n",
      "Done unstacking\n",
      "Done reindexing\n",
      "Time elapsed: 701.482105 seconds\n"
     ]
    }
   ],
   "source": [
    "!python FIDDLE-transform-meds.py"
   ]
  },
  {
   "cell_type": "code",
   "execution_count": 4,
   "metadata": {},
   "outputs": [
    {
     "name": "stdout",
     "output_type": "stream",
     "text": [
      "Input data file: ./data_input/flow-20.p\n",
      "\n",
      "Input arguments:\n",
      "    T      = 240\n",
      "    dt     = 240.0\n",
      "    θ₁     = 0.001\n",
      "    θ₂     = 0.001\n",
      "    θ_freq = 1.0\n",
      "    k      = 3 ['min', 'max', 'mean']\n",
      "binarize = yes\n",
      "\n",
      "N = 459902\n",
      "L = 1\n",
      "\n",
      "Done unstacking\n",
      "Done reindexing\n",
      "Time elapsed: 103.720938 seconds\n",
      "Done! Time elapsed: 120.053329 seconds\n"
     ]
    }
   ],
   "source": [
    "!python FIDDLE-transform-flow-20.py"
   ]
  },
  {
   "cell_type": "code",
   "execution_count": 5,
   "metadata": {},
   "outputs": [
    {
     "name": "stdout",
     "output_type": "stream",
     "text": [
      "Input data file: ./data_input/vitals.p\n",
      "\n",
      "Input arguments:\n",
      "    T      = 240\n",
      "    dt     = 240.0\n",
      "    θ₁     = 0.001\n",
      "    θ₂     = 0.001\n",
      "    θ_freq = 1.0\n",
      "    k      = 3 ['min', 'max', 'mean']\n",
      "binarize = yes\n",
      "\n",
      "N = 459902\n",
      "L = 1\n",
      "\n",
      "\n",
      "--------------------------------------------------------------------------------\n",
      "2-B) Transform time-dependent data\n",
      "--------------------------------------------------------------------------------\n",
      "Total variables    : 6\n",
      "Frequent variables : ['respiratoryrate', 'heartrate', 'temperature', 'sbp', 'dbp', 'spo2']\n",
      "M₁ = 6\n",
      "M₂ = 0\n",
      "k  = 3 ['min', 'max', 'mean']\n",
      "\n",
      "Transforming each example...\n",
      "Batches of size 1000:  425\n",
      "100%|█████████████████████████████████████████| 425/425 [30:42<00:00,  4.33s/it]\n",
      "\n",
      "Parallel processing done\n",
      "Filled no-data examples done\n",
      "\n",
      "(N × L × ^D) table :\t (424741, 1, 30)\n",
      "Time elapsed: 3096.015814 seconds\n"
     ]
    }
   ],
   "source": [
    "!python FIDDLE-transform-vitals.py"
   ]
  },
  {
   "cell_type": "raw",
   "metadata": {},
   "source": [
    "python FIDDLE-transform-meds.py > >(tee \"out_meds/out.txt\") 2> >(tee \"out_meds/err.txt\" >&2)"
   ]
  },
  {
   "cell_type": "raw",
   "metadata": {},
   "source": [
    "python FIDDLE-transform-labs.py > >(tee \"out_labs/out.txt\") 2> >(tee \"out_labs/err.txt\" >&2)"
   ]
  },
  {
   "cell_type": "raw",
   "metadata": {},
   "source": [
    "python FIDDLE-transform-flow.py > >(tee \"out_flow/out.txt\") 2> >(tee \"out_flow/err.txt\" >&2)"
   ]
  },
  {
   "cell_type": "raw",
   "metadata": {},
   "source": [
    "python FIDDLE-transform-vitals.py > >(tee \"out_vitals/out.txt\") 2> >(tee \"out_vitals/err.txt\" >&2)"
   ]
  },
  {
   "cell_type": "code",
   "execution_count": null,
   "metadata": {},
   "outputs": [],
   "source": []
  },
  {
   "cell_type": "code",
   "execution_count": 1,
   "metadata": {},
   "outputs": [],
   "source": [
    "import pandas as pd"
   ]
  },
  {
   "cell_type": "code",
   "execution_count": 2,
   "metadata": {},
   "outputs": [],
   "source": [
    "df_vars = pd.read_csv('out_flow/value_types.csv')"
   ]
  },
  {
   "cell_type": "code",
   "execution_count": 3,
   "metadata": {},
   "outputs": [
    {
     "data": {
      "text/html": [
       "<div>\n",
       "<style scoped>\n",
       "    .dataframe tbody tr th:only-of-type {\n",
       "        vertical-align: middle;\n",
       "    }\n",
       "\n",
       "    .dataframe tbody tr th {\n",
       "        vertical-align: top;\n",
       "    }\n",
       "\n",
       "    .dataframe thead th {\n",
       "        text-align: right;\n",
       "    }\n",
       "</style>\n",
       "<table border=\"1\" class=\"dataframe\">\n",
       "  <thead>\n",
       "    <tr style=\"text-align: right;\">\n",
       "      <th></th>\n",
       "      <th>variable_name</th>\n",
       "      <th>value_type</th>\n",
       "    </tr>\n",
       "  </thead>\n",
       "  <tbody>\n",
       "    <tr>\n",
       "      <th>0</th>\n",
       "      <td>_307788</td>\n",
       "      <td>Numeric</td>\n",
       "    </tr>\n",
       "    <tr>\n",
       "      <th>1</th>\n",
       "      <td>_307791</td>\n",
       "      <td>Numeric</td>\n",
       "    </tr>\n",
       "    <tr>\n",
       "      <th>2</th>\n",
       "      <td>_307792</td>\n",
       "      <td>Numeric</td>\n",
       "    </tr>\n",
       "    <tr>\n",
       "      <th>3</th>\n",
       "      <td>_307793</td>\n",
       "      <td>Categorical</td>\n",
       "    </tr>\n",
       "    <tr>\n",
       "      <th>4</th>\n",
       "      <td>_307795</td>\n",
       "      <td>Numeric</td>\n",
       "    </tr>\n",
       "    <tr>\n",
       "      <th>...</th>\n",
       "      <td>...</td>\n",
       "      <td>...</td>\n",
       "    </tr>\n",
       "    <tr>\n",
       "      <th>1374</th>\n",
       "      <td>_685244</td>\n",
       "      <td>Numeric</td>\n",
       "    </tr>\n",
       "    <tr>\n",
       "      <th>1375</th>\n",
       "      <td>_685863</td>\n",
       "      <td>Numeric</td>\n",
       "    </tr>\n",
       "    <tr>\n",
       "      <th>1376</th>\n",
       "      <td>_686396</td>\n",
       "      <td>Categorical</td>\n",
       "    </tr>\n",
       "    <tr>\n",
       "      <th>1377</th>\n",
       "      <td>_686397</td>\n",
       "      <td>Categorical</td>\n",
       "    </tr>\n",
       "    <tr>\n",
       "      <th>1378</th>\n",
       "      <td>_690305</td>\n",
       "      <td>Numeric</td>\n",
       "    </tr>\n",
       "  </tbody>\n",
       "</table>\n",
       "<p>1379 rows × 2 columns</p>\n",
       "</div>"
      ],
      "text/plain": [
       "     variable_name   value_type\n",
       "0          _307788      Numeric\n",
       "1          _307791      Numeric\n",
       "2          _307792      Numeric\n",
       "3          _307793  Categorical\n",
       "4          _307795      Numeric\n",
       "...            ...          ...\n",
       "1374       _685244      Numeric\n",
       "1375       _685863      Numeric\n",
       "1376       _686396  Categorical\n",
       "1377       _686397  Categorical\n",
       "1378       _690305      Numeric\n",
       "\n",
       "[1379 rows x 2 columns]"
      ]
     },
     "execution_count": 3,
     "metadata": {},
     "output_type": "execute_result"
    }
   ],
   "source": [
    "df_vars"
   ]
  },
  {
   "cell_type": "code",
   "execution_count": 4,
   "metadata": {},
   "outputs": [],
   "source": [
    "variables_num_freq = [\n",
    "    '_307788', '_307791', '_307792', '_307834', '_307836', '_307927',\n",
    "    '_308199', '_327706', '_335304', '_654071', '_654072', '_654073',\n",
    "    '_654075', '_685863'\n",
    "]"
   ]
  },
  {
   "cell_type": "code",
   "execution_count": 6,
   "metadata": {},
   "outputs": [],
   "source": [
    "df_vars_1 = df_vars[df_vars['variable_name'].isin(variables_num_freq)]"
   ]
  },
  {
   "cell_type": "code",
   "execution_count": 7,
   "metadata": {},
   "outputs": [
    {
     "data": {
      "text/html": [
       "<div>\n",
       "<style scoped>\n",
       "    .dataframe tbody tr th:only-of-type {\n",
       "        vertical-align: middle;\n",
       "    }\n",
       "\n",
       "    .dataframe tbody tr th {\n",
       "        vertical-align: top;\n",
       "    }\n",
       "\n",
       "    .dataframe thead th {\n",
       "        text-align: right;\n",
       "    }\n",
       "</style>\n",
       "<table border=\"1\" class=\"dataframe\">\n",
       "  <thead>\n",
       "    <tr style=\"text-align: right;\">\n",
       "      <th></th>\n",
       "      <th>variable_name</th>\n",
       "      <th>value_type</th>\n",
       "    </tr>\n",
       "  </thead>\n",
       "  <tbody>\n",
       "    <tr>\n",
       "      <th>0</th>\n",
       "      <td>_307788</td>\n",
       "      <td>Numeric</td>\n",
       "    </tr>\n",
       "    <tr>\n",
       "      <th>1</th>\n",
       "      <td>_307791</td>\n",
       "      <td>Numeric</td>\n",
       "    </tr>\n",
       "    <tr>\n",
       "      <th>2</th>\n",
       "      <td>_307792</td>\n",
       "      <td>Numeric</td>\n",
       "    </tr>\n",
       "    <tr>\n",
       "      <th>19</th>\n",
       "      <td>_307834</td>\n",
       "      <td>Numeric</td>\n",
       "    </tr>\n",
       "    <tr>\n",
       "      <th>20</th>\n",
       "      <td>_307836</td>\n",
       "      <td>Numeric</td>\n",
       "    </tr>\n",
       "    <tr>\n",
       "      <th>31</th>\n",
       "      <td>_307927</td>\n",
       "      <td>Numeric</td>\n",
       "    </tr>\n",
       "    <tr>\n",
       "      <th>112</th>\n",
       "      <td>_308199</td>\n",
       "      <td>Numeric</td>\n",
       "    </tr>\n",
       "    <tr>\n",
       "      <th>799</th>\n",
       "      <td>_327706</td>\n",
       "      <td>Numeric</td>\n",
       "    </tr>\n",
       "    <tr>\n",
       "      <th>846</th>\n",
       "      <td>_335304</td>\n",
       "      <td>Numeric</td>\n",
       "    </tr>\n",
       "    <tr>\n",
       "      <th>1356</th>\n",
       "      <td>_654071</td>\n",
       "      <td>Numeric</td>\n",
       "    </tr>\n",
       "    <tr>\n",
       "      <th>1357</th>\n",
       "      <td>_654072</td>\n",
       "      <td>Numeric</td>\n",
       "    </tr>\n",
       "    <tr>\n",
       "      <th>1358</th>\n",
       "      <td>_654073</td>\n",
       "      <td>Numeric</td>\n",
       "    </tr>\n",
       "    <tr>\n",
       "      <th>1360</th>\n",
       "      <td>_654075</td>\n",
       "      <td>Numeric</td>\n",
       "    </tr>\n",
       "    <tr>\n",
       "      <th>1375</th>\n",
       "      <td>_685863</td>\n",
       "      <td>Numeric</td>\n",
       "    </tr>\n",
       "  </tbody>\n",
       "</table>\n",
       "</div>"
      ],
      "text/plain": [
       "     variable_name value_type\n",
       "0          _307788    Numeric\n",
       "1          _307791    Numeric\n",
       "2          _307792    Numeric\n",
       "19         _307834    Numeric\n",
       "20         _307836    Numeric\n",
       "31         _307927    Numeric\n",
       "112        _308199    Numeric\n",
       "799        _327706    Numeric\n",
       "846        _335304    Numeric\n",
       "1356       _654071    Numeric\n",
       "1357       _654072    Numeric\n",
       "1358       _654073    Numeric\n",
       "1360       _654075    Numeric\n",
       "1375       _685863    Numeric"
      ]
     },
     "execution_count": 7,
     "metadata": {},
     "output_type": "execute_result"
    }
   ],
   "source": [
    "df_vars_1"
   ]
  },
  {
   "cell_type": "code",
   "execution_count": 8,
   "metadata": {},
   "outputs": [],
   "source": [
    "df_vars_1.to_csv('out_flow-1/value_types.csv', index=False)"
   ]
  },
  {
   "cell_type": "code",
   "execution_count": 9,
   "metadata": {},
   "outputs": [],
   "source": [
    "df_vars_2 = df_vars[~df_vars['variable_name'].isin(variables_num_freq)]"
   ]
  },
  {
   "cell_type": "code",
   "execution_count": 10,
   "metadata": {},
   "outputs": [
    {
     "data": {
      "text/html": [
       "<div>\n",
       "<style scoped>\n",
       "    .dataframe tbody tr th:only-of-type {\n",
       "        vertical-align: middle;\n",
       "    }\n",
       "\n",
       "    .dataframe tbody tr th {\n",
       "        vertical-align: top;\n",
       "    }\n",
       "\n",
       "    .dataframe thead th {\n",
       "        text-align: right;\n",
       "    }\n",
       "</style>\n",
       "<table border=\"1\" class=\"dataframe\">\n",
       "  <thead>\n",
       "    <tr style=\"text-align: right;\">\n",
       "      <th></th>\n",
       "      <th>variable_name</th>\n",
       "      <th>value_type</th>\n",
       "    </tr>\n",
       "  </thead>\n",
       "  <tbody>\n",
       "    <tr>\n",
       "      <th>3</th>\n",
       "      <td>_307793</td>\n",
       "      <td>Categorical</td>\n",
       "    </tr>\n",
       "    <tr>\n",
       "      <th>4</th>\n",
       "      <td>_307795</td>\n",
       "      <td>Numeric</td>\n",
       "    </tr>\n",
       "    <tr>\n",
       "      <th>5</th>\n",
       "      <td>_307796</td>\n",
       "      <td>Numeric</td>\n",
       "    </tr>\n",
       "    <tr>\n",
       "      <th>6</th>\n",
       "      <td>_307799</td>\n",
       "      <td>Numeric</td>\n",
       "    </tr>\n",
       "    <tr>\n",
       "      <th>7</th>\n",
       "      <td>_307800</td>\n",
       "      <td>Numeric</td>\n",
       "    </tr>\n",
       "    <tr>\n",
       "      <th>...</th>\n",
       "      <td>...</td>\n",
       "      <td>...</td>\n",
       "    </tr>\n",
       "    <tr>\n",
       "      <th>1373</th>\n",
       "      <td>_676547</td>\n",
       "      <td>Numeric</td>\n",
       "    </tr>\n",
       "    <tr>\n",
       "      <th>1374</th>\n",
       "      <td>_685244</td>\n",
       "      <td>Numeric</td>\n",
       "    </tr>\n",
       "    <tr>\n",
       "      <th>1376</th>\n",
       "      <td>_686396</td>\n",
       "      <td>Categorical</td>\n",
       "    </tr>\n",
       "    <tr>\n",
       "      <th>1377</th>\n",
       "      <td>_686397</td>\n",
       "      <td>Categorical</td>\n",
       "    </tr>\n",
       "    <tr>\n",
       "      <th>1378</th>\n",
       "      <td>_690305</td>\n",
       "      <td>Numeric</td>\n",
       "    </tr>\n",
       "  </tbody>\n",
       "</table>\n",
       "<p>1365 rows × 2 columns</p>\n",
       "</div>"
      ],
      "text/plain": [
       "     variable_name   value_type\n",
       "3          _307793  Categorical\n",
       "4          _307795      Numeric\n",
       "5          _307796      Numeric\n",
       "6          _307799      Numeric\n",
       "7          _307800      Numeric\n",
       "...            ...          ...\n",
       "1373       _676547      Numeric\n",
       "1374       _685244      Numeric\n",
       "1376       _686396  Categorical\n",
       "1377       _686397  Categorical\n",
       "1378       _690305      Numeric\n",
       "\n",
       "[1365 rows x 2 columns]"
      ]
     },
     "execution_count": 10,
     "metadata": {},
     "output_type": "execute_result"
    }
   ],
   "source": [
    "df_vars_2"
   ]
  },
  {
   "cell_type": "code",
   "execution_count": 11,
   "metadata": {},
   "outputs": [],
   "source": [
    "df_vars_2.to_csv('out_flow-2/value_types.csv', index=False)"
   ]
  },
  {
   "cell_type": "code",
   "execution_count": null,
   "metadata": {},
   "outputs": [],
   "source": []
  }
 ],
 "metadata": {
  "kernelspec": {
   "display_name": "Python 3",
   "language": "python",
   "name": "python3"
  },
  "language_info": {
   "codemirror_mode": {
    "name": "ipython",
    "version": 3
   },
   "file_extension": ".py",
   "mimetype": "text/x-python",
   "name": "python",
   "nbconvert_exporter": "python",
   "pygments_lexer": "ipython3",
   "version": "3.7.4"
  }
 },
 "nbformat": 4,
 "nbformat_minor": 4
}
