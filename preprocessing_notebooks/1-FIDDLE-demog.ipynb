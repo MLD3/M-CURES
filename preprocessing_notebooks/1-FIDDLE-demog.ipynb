{
 "cells": [
  {
   "cell_type": "code",
   "execution_count": 1,
   "metadata": {},
   "outputs": [],
   "source": [
    "!mkdir -p sample_output/out_demog"
   ]
  },
  {
   "cell_type": "code",
   "execution_count": 2,
   "metadata": {},
   "outputs": [],
   "source": [
    "import pandas as pd\n",
    "import numpy as np\n",
    "import matplotlib.pyplot as plt"
   ]
  },
  {
   "cell_type": "code",
   "execution_count": 3,
   "metadata": {},
   "outputs": [],
   "source": [
    "import json\n",
    "import sparse\n",
    "import pandas as pd\n",
    "import numpy as np\n",
    "import joblib"
   ]
  },
  {
   "cell_type": "raw",
   "metadata": {},
   "source": [
    "df_enc = pd.read_csv('sample_data/enc.csv').set_index('hosp_id')"
   ]
  },
  {
   "cell_type": "raw",
   "metadata": {},
   "source": [
    "df_static = df_enc[['age', 'sex', 'race']].rename(columns={'age': 'age_value', 'sex': 'sex_value', 'race': 'race_value'})"
   ]
  },
  {
   "cell_type": "raw",
   "metadata": {},
   "source": [
    "df_static.to_csv('out_demog/hosp_data_raw.csv')"
   ]
  },
  {
   "cell_type": "raw",
   "metadata": {},
   "source": []
  },
  {
   "cell_type": "code",
   "execution_count": 4,
   "metadata": {},
   "outputs": [],
   "source": [
    "df_static = pd.read_csv('sample_input/demog.csv').set_index('hosp_id')"
   ]
  },
  {
   "cell_type": "code",
   "execution_count": 5,
   "metadata": {},
   "outputs": [],
   "source": [
    "discretization_bins = json.load(open('metadata/out_demog/discretization.json', 'r'))\n",
    "feature_names = json.load(open('metadata/out_demog/s_all.feature_names.json', 'r'))"
   ]
  },
  {
   "cell_type": "code",
   "execution_count": 6,
   "metadata": {},
   "outputs": [
    {
     "data": {
      "text/plain": [
       "{'age_value': [18.0, 47.0, 59.0, 67.0, 76.0, 102.0],\n",
       " 'sex_value': None,\n",
       " 'race_value': None}"
      ]
     },
     "execution_count": 6,
     "metadata": {},
     "output_type": "execute_result"
    }
   ],
   "source": [
    "discretization_bins"
   ]
  },
  {
   "cell_type": "code",
   "execution_count": null,
   "metadata": {},
   "outputs": [],
   "source": []
  },
  {
   "cell_type": "code",
   "execution_count": 7,
   "metadata": {},
   "outputs": [],
   "source": [
    "cols_useful = list(discretization_bins.keys())"
   ]
  },
  {
   "cell_type": "code",
   "execution_count": 8,
   "metadata": {},
   "outputs": [
    {
     "data": {
      "text/plain": [
       "['age_value', 'sex_value', 'race_value']"
      ]
     },
     "execution_count": 8,
     "metadata": {},
     "output_type": "execute_result"
    }
   ],
   "source": [
    "cols_useful"
   ]
  },
  {
   "cell_type": "code",
   "execution_count": 9,
   "metadata": {},
   "outputs": [
    {
     "data": {
      "text/html": [
       "<div>\n",
       "<style scoped>\n",
       "    .dataframe tbody tr th:only-of-type {\n",
       "        vertical-align: middle;\n",
       "    }\n",
       "\n",
       "    .dataframe tbody tr th {\n",
       "        vertical-align: top;\n",
       "    }\n",
       "\n",
       "    .dataframe thead th {\n",
       "        text-align: right;\n",
       "    }\n",
       "</style>\n",
       "<table border=\"1\" class=\"dataframe\">\n",
       "  <thead>\n",
       "    <tr style=\"text-align: right;\">\n",
       "      <th></th>\n",
       "      <th>age_value</th>\n",
       "      <th>sex_value</th>\n",
       "      <th>race_value</th>\n",
       "    </tr>\n",
       "    <tr>\n",
       "      <th>hosp_id</th>\n",
       "      <th></th>\n",
       "      <th></th>\n",
       "      <th></th>\n",
       "    </tr>\n",
       "  </thead>\n",
       "  <tbody>\n",
       "    <tr>\n",
       "      <th>90000</th>\n",
       "      <td>50</td>\n",
       "      <td>M</td>\n",
       "      <td>African American</td>\n",
       "    </tr>\n",
       "    <tr>\n",
       "      <th>90001</th>\n",
       "      <td>24</td>\n",
       "      <td>F</td>\n",
       "      <td>Caucasian</td>\n",
       "    </tr>\n",
       "  </tbody>\n",
       "</table>\n",
       "</div>"
      ],
      "text/plain": [
       "         age_value sex_value        race_value\n",
       "hosp_id                                       \n",
       "90000           50         M  African American\n",
       "90001           24         F         Caucasian"
      ]
     },
     "execution_count": 9,
     "metadata": {},
     "output_type": "execute_result"
    }
   ],
   "source": [
    "df_static"
   ]
  },
  {
   "cell_type": "code",
   "execution_count": 10,
   "metadata": {},
   "outputs": [],
   "source": [
    "df_static = df_static[cols_useful]"
   ]
  },
  {
   "cell_type": "code",
   "execution_count": null,
   "metadata": {},
   "outputs": [],
   "source": []
  },
  {
   "cell_type": "code",
   "execution_count": null,
   "metadata": {},
   "outputs": [],
   "source": []
  },
  {
   "cell_type": "code",
   "execution_count": 11,
   "metadata": {},
   "outputs": [],
   "source": [
    "from steps_2 import *\n",
    "from helpers import *"
   ]
  },
  {
   "cell_type": "code",
   "execution_count": 12,
   "metadata": {},
   "outputs": [],
   "source": [
    "df = df_static"
   ]
  },
  {
   "cell_type": "code",
   "execution_count": 13,
   "metadata": {},
   "outputs": [],
   "source": [
    "df_by_cols = [df[col] for col in df.columns]"
   ]
  },
  {
   "cell_type": "code",
   "execution_count": 14,
   "metadata": {},
   "outputs": [
    {
     "name": "stderr",
     "output_type": "stream",
     "text": [
      "100%|██████████| 3/3 [00:00<00:00, 145.03it/s]\n"
     ]
    }
   ],
   "source": [
    "out_0 = [smart_qcut_bins((x, discretization_bins[x.name])) for x in tqdm(df_by_cols)]"
   ]
  },
  {
   "cell_type": "code",
   "execution_count": 15,
   "metadata": {},
   "outputs": [],
   "source": [
    "cols_data, dis_bins = zip(*out_0)"
   ]
  },
  {
   "cell_type": "code",
   "execution_count": 16,
   "metadata": {},
   "outputs": [
    {
     "name": "stderr",
     "output_type": "stream",
     "text": [
      "100%|██████████| 3/3 [00:00<00:00, 406.73it/s]\n"
     ]
    }
   ],
   "source": [
    "out = [dummify(z) for z in tqdm(cols_data)]"
   ]
  },
  {
   "cell_type": "code",
   "execution_count": 17,
   "metadata": {},
   "outputs": [],
   "source": [
    "df_features = pd.concat(out, axis=1).sort_index(axis=1)"
   ]
  },
  {
   "cell_type": "code",
   "execution_count": 18,
   "metadata": {},
   "outputs": [],
   "source": [
    "# Drop any values='missing' for now\n",
    "df_features = df_features.loc[:, [col for col in df_features.columns if 'missing' not in col]]"
   ]
  },
  {
   "cell_type": "code",
   "execution_count": 19,
   "metadata": {},
   "outputs": [
    {
     "data": {
      "text/plain": [
       "True"
      ]
     },
     "execution_count": 19,
     "metadata": {},
     "output_type": "execute_result"
    }
   ],
   "source": [
    "# Make sure same features\n",
    "set(df_features.columns) <= set(feature_names)"
   ]
  },
  {
   "cell_type": "code",
   "execution_count": 20,
   "metadata": {},
   "outputs": [],
   "source": [
    "df_features = df_features.reindex(columns=feature_names, fill_value=0)"
   ]
  },
  {
   "cell_type": "code",
   "execution_count": 21,
   "metadata": {},
   "outputs": [
    {
     "data": {
      "text/html": [
       "<div>\n",
       "<style scoped>\n",
       "    .dataframe tbody tr th:only-of-type {\n",
       "        vertical-align: middle;\n",
       "    }\n",
       "\n",
       "    .dataframe tbody tr th {\n",
       "        vertical-align: top;\n",
       "    }\n",
       "\n",
       "    .dataframe thead th {\n",
       "        text-align: right;\n",
       "    }\n",
       "</style>\n",
       "<table border=\"1\" class=\"dataframe\">\n",
       "  <thead>\n",
       "    <tr style=\"text-align: right;\">\n",
       "      <th></th>\n",
       "      <th>age_value_(17.999, 47.0]</th>\n",
       "      <th>age_value_(47.0, 59.0]</th>\n",
       "      <th>age_value_(59.0, 67.0]</th>\n",
       "      <th>age_value_(67.0, 76.0]</th>\n",
       "      <th>age_value_(76.0, 102.0]</th>\n",
       "      <th>race_value_African American</th>\n",
       "      <th>race_value_American Indian or Alaska Native</th>\n",
       "      <th>race_value_Asian</th>\n",
       "      <th>race_value_Caucasian</th>\n",
       "      <th>race_value_Native Hawaiian and Other Pacific Islander</th>\n",
       "      <th>race_value_Other</th>\n",
       "      <th>race_value_Patient Refused</th>\n",
       "      <th>race_value_Unknown</th>\n",
       "      <th>sex_value_F</th>\n",
       "      <th>sex_value_M</th>\n",
       "    </tr>\n",
       "    <tr>\n",
       "      <th>hosp_id</th>\n",
       "      <th></th>\n",
       "      <th></th>\n",
       "      <th></th>\n",
       "      <th></th>\n",
       "      <th></th>\n",
       "      <th></th>\n",
       "      <th></th>\n",
       "      <th></th>\n",
       "      <th></th>\n",
       "      <th></th>\n",
       "      <th></th>\n",
       "      <th></th>\n",
       "      <th></th>\n",
       "      <th></th>\n",
       "      <th></th>\n",
       "    </tr>\n",
       "  </thead>\n",
       "  <tbody>\n",
       "    <tr>\n",
       "      <th>90000</th>\n",
       "      <td>0</td>\n",
       "      <td>1</td>\n",
       "      <td>0</td>\n",
       "      <td>0</td>\n",
       "      <td>0</td>\n",
       "      <td>1</td>\n",
       "      <td>0</td>\n",
       "      <td>0</td>\n",
       "      <td>0</td>\n",
       "      <td>0</td>\n",
       "      <td>0</td>\n",
       "      <td>0</td>\n",
       "      <td>0</td>\n",
       "      <td>0</td>\n",
       "      <td>1</td>\n",
       "    </tr>\n",
       "    <tr>\n",
       "      <th>90001</th>\n",
       "      <td>1</td>\n",
       "      <td>0</td>\n",
       "      <td>0</td>\n",
       "      <td>0</td>\n",
       "      <td>0</td>\n",
       "      <td>0</td>\n",
       "      <td>0</td>\n",
       "      <td>0</td>\n",
       "      <td>1</td>\n",
       "      <td>0</td>\n",
       "      <td>0</td>\n",
       "      <td>0</td>\n",
       "      <td>0</td>\n",
       "      <td>1</td>\n",
       "      <td>0</td>\n",
       "    </tr>\n",
       "  </tbody>\n",
       "</table>\n",
       "</div>"
      ],
      "text/plain": [
       "         age_value_(17.999, 47.0]  age_value_(47.0, 59.0]  \\\n",
       "hosp_id                                                     \n",
       "90000                           0                       1   \n",
       "90001                           1                       0   \n",
       "\n",
       "         age_value_(59.0, 67.0]  age_value_(67.0, 76.0]  \\\n",
       "hosp_id                                                   \n",
       "90000                         0                       0   \n",
       "90001                         0                       0   \n",
       "\n",
       "         age_value_(76.0, 102.0]  race_value_African American  \\\n",
       "hosp_id                                                         \n",
       "90000                          0                            1   \n",
       "90001                          0                            0   \n",
       "\n",
       "         race_value_American Indian or Alaska Native  race_value_Asian  \\\n",
       "hosp_id                                                                  \n",
       "90000                                              0                 0   \n",
       "90001                                              0                 0   \n",
       "\n",
       "         race_value_Caucasian  \\\n",
       "hosp_id                         \n",
       "90000                       0   \n",
       "90001                       1   \n",
       "\n",
       "         race_value_Native Hawaiian and Other Pacific Islander  \\\n",
       "hosp_id                                                          \n",
       "90000                                                    0       \n",
       "90001                                                    0       \n",
       "\n",
       "         race_value_Other  race_value_Patient Refused  race_value_Unknown  \\\n",
       "hosp_id                                                                     \n",
       "90000                   0                           0                   0   \n",
       "90001                   0                           0                   0   \n",
       "\n",
       "         sex_value_F  sex_value_M  \n",
       "hosp_id                            \n",
       "90000              0            1  \n",
       "90001              1            0  "
      ]
     },
     "execution_count": 21,
     "metadata": {},
     "output_type": "execute_result"
    }
   ],
   "source": [
    "df_features"
   ]
  },
  {
   "cell_type": "code",
   "execution_count": 22,
   "metadata": {},
   "outputs": [],
   "source": [
    "sdf = df_features.astype(pd.SparseDtype(int, fill_value=0))\n",
    "X_all = sparse.COO(sdf.sparse.to_coo())"
   ]
  },
  {
   "cell_type": "code",
   "execution_count": 23,
   "metadata": {},
   "outputs": [],
   "source": [
    "sparse.save_npz('sample_output/out_demog/X_all.npz', X_all)\n",
    "df_features[[]].to_csv('sample_output/out_demog/X_all.IDs.csv')\n",
    "# json.dump(list(X_all_feature_names), open('out_meds/X_all.feature_names.json', 'w'), sort_keys=True)\n",
    "# json.dump(discretization_bins, open('out_meds/discretization.json', 'w'))"
   ]
  },
  {
   "cell_type": "code",
   "execution_count": null,
   "metadata": {},
   "outputs": [],
   "source": []
  },
  {
   "cell_type": "code",
   "execution_count": 24,
   "metadata": {},
   "outputs": [],
   "source": [
    "import sparse, json"
   ]
  },
  {
   "cell_type": "code",
   "execution_count": 25,
   "metadata": {},
   "outputs": [],
   "source": [
    "s = sparse.load_npz('sample_output/out_demog/X_all.npz').todense()"
   ]
  },
  {
   "cell_type": "code",
   "execution_count": 26,
   "metadata": {},
   "outputs": [
    {
     "data": {
      "text/plain": [
       "(2, 15)"
      ]
     },
     "execution_count": 26,
     "metadata": {},
     "output_type": "execute_result"
    }
   ],
   "source": [
    "s.shape"
   ]
  },
  {
   "cell_type": "code",
   "execution_count": 27,
   "metadata": {},
   "outputs": [],
   "source": [
    "cols = feature_names\n",
    "df_s = pd.DataFrame(s, columns=cols)\n",
    "df_s.index = df_static.index"
   ]
  },
  {
   "cell_type": "code",
   "execution_count": 28,
   "metadata": {},
   "outputs": [],
   "source": [
    "df_s.to_csv('sample_output/out_demog/static-features.csv')"
   ]
  },
  {
   "cell_type": "code",
   "execution_count": 29,
   "metadata": {},
   "outputs": [
    {
     "data": {
      "text/html": [
       "<div>\n",
       "<style scoped>\n",
       "    .dataframe tbody tr th:only-of-type {\n",
       "        vertical-align: middle;\n",
       "    }\n",
       "\n",
       "    .dataframe tbody tr th {\n",
       "        vertical-align: top;\n",
       "    }\n",
       "\n",
       "    .dataframe thead th {\n",
       "        text-align: right;\n",
       "    }\n",
       "</style>\n",
       "<table border=\"1\" class=\"dataframe\">\n",
       "  <thead>\n",
       "    <tr style=\"text-align: right;\">\n",
       "      <th></th>\n",
       "      <th>age_value_(17.999, 47.0]</th>\n",
       "      <th>age_value_(47.0, 59.0]</th>\n",
       "      <th>age_value_(59.0, 67.0]</th>\n",
       "      <th>age_value_(67.0, 76.0]</th>\n",
       "      <th>age_value_(76.0, 102.0]</th>\n",
       "      <th>race_value_African American</th>\n",
       "      <th>race_value_American Indian or Alaska Native</th>\n",
       "      <th>race_value_Asian</th>\n",
       "      <th>race_value_Caucasian</th>\n",
       "      <th>race_value_Native Hawaiian and Other Pacific Islander</th>\n",
       "      <th>race_value_Other</th>\n",
       "      <th>race_value_Patient Refused</th>\n",
       "      <th>race_value_Unknown</th>\n",
       "      <th>sex_value_F</th>\n",
       "      <th>sex_value_M</th>\n",
       "    </tr>\n",
       "    <tr>\n",
       "      <th>hosp_id</th>\n",
       "      <th></th>\n",
       "      <th></th>\n",
       "      <th></th>\n",
       "      <th></th>\n",
       "      <th></th>\n",
       "      <th></th>\n",
       "      <th></th>\n",
       "      <th></th>\n",
       "      <th></th>\n",
       "      <th></th>\n",
       "      <th></th>\n",
       "      <th></th>\n",
       "      <th></th>\n",
       "      <th></th>\n",
       "      <th></th>\n",
       "    </tr>\n",
       "  </thead>\n",
       "  <tbody>\n",
       "    <tr>\n",
       "      <th>90000</th>\n",
       "      <td>0</td>\n",
       "      <td>1</td>\n",
       "      <td>0</td>\n",
       "      <td>0</td>\n",
       "      <td>0</td>\n",
       "      <td>1</td>\n",
       "      <td>0</td>\n",
       "      <td>0</td>\n",
       "      <td>0</td>\n",
       "      <td>0</td>\n",
       "      <td>0</td>\n",
       "      <td>0</td>\n",
       "      <td>0</td>\n",
       "      <td>0</td>\n",
       "      <td>1</td>\n",
       "    </tr>\n",
       "    <tr>\n",
       "      <th>90001</th>\n",
       "      <td>1</td>\n",
       "      <td>0</td>\n",
       "      <td>0</td>\n",
       "      <td>0</td>\n",
       "      <td>0</td>\n",
       "      <td>0</td>\n",
       "      <td>0</td>\n",
       "      <td>0</td>\n",
       "      <td>1</td>\n",
       "      <td>0</td>\n",
       "      <td>0</td>\n",
       "      <td>0</td>\n",
       "      <td>0</td>\n",
       "      <td>1</td>\n",
       "      <td>0</td>\n",
       "    </tr>\n",
       "  </tbody>\n",
       "</table>\n",
       "</div>"
      ],
      "text/plain": [
       "         age_value_(17.999, 47.0]  age_value_(47.0, 59.0]  \\\n",
       "hosp_id                                                     \n",
       "90000                           0                       1   \n",
       "90001                           1                       0   \n",
       "\n",
       "         age_value_(59.0, 67.0]  age_value_(67.0, 76.0]  \\\n",
       "hosp_id                                                   \n",
       "90000                         0                       0   \n",
       "90001                         0                       0   \n",
       "\n",
       "         age_value_(76.0, 102.0]  race_value_African American  \\\n",
       "hosp_id                                                         \n",
       "90000                          0                            1   \n",
       "90001                          0                            0   \n",
       "\n",
       "         race_value_American Indian or Alaska Native  race_value_Asian  \\\n",
       "hosp_id                                                                  \n",
       "90000                                              0                 0   \n",
       "90001                                              0                 0   \n",
       "\n",
       "         race_value_Caucasian  \\\n",
       "hosp_id                         \n",
       "90000                       0   \n",
       "90001                       1   \n",
       "\n",
       "         race_value_Native Hawaiian and Other Pacific Islander  \\\n",
       "hosp_id                                                          \n",
       "90000                                                    0       \n",
       "90001                                                    0       \n",
       "\n",
       "         race_value_Other  race_value_Patient Refused  race_value_Unknown  \\\n",
       "hosp_id                                                                     \n",
       "90000                   0                           0                   0   \n",
       "90001                   0                           0                   0   \n",
       "\n",
       "         sex_value_F  sex_value_M  \n",
       "hosp_id                            \n",
       "90000              0            1  \n",
       "90001              1            0  "
      ]
     },
     "execution_count": 29,
     "metadata": {},
     "output_type": "execute_result"
    }
   ],
   "source": [
    "df_s"
   ]
  },
  {
   "cell_type": "code",
   "execution_count": null,
   "metadata": {},
   "outputs": [],
   "source": []
  }
 ],
 "metadata": {
  "kernelspec": {
   "display_name": "Python 3",
   "language": "python",
   "name": "python3"
  },
  "language_info": {
   "codemirror_mode": {
    "name": "ipython",
    "version": 3
   },
   "file_extension": ".py",
   "mimetype": "text/x-python",
   "name": "python",
   "nbconvert_exporter": "python",
   "pygments_lexer": "ipython3",
   "version": "3.7.4"
  }
 },
 "nbformat": 4,
 "nbformat_minor": 4
}
