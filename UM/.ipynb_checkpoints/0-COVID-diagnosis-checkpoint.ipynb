{
 "cells": [
  {
   "cell_type": "code",
   "execution_count": 1,
   "metadata": {},
   "outputs": [],
   "source": [
    "import pandas as pd\n",
    "import numpy as np"
   ]
  },
  {
   "cell_type": "code",
   "execution_count": 2,
   "metadata": {},
   "outputs": [],
   "source": [
    "df = pd.read_csv('/data/covid/acute_dyspnea_data/2020_0701/diagnosis-codes.csv')"
   ]
  },
  {
   "cell_type": "code",
   "execution_count": null,
   "metadata": {},
   "outputs": [],
   "source": [
    "df"
   ]
  },
  {
   "cell_type": "code",
   "execution_count": 4,
   "metadata": {},
   "outputs": [],
   "source": [
    "df_covid = df[df['TermCodeMapped'] == 'U07.1']\n",
    "df_covid = df_covid.drop_duplicates('hosp_id')"
   ]
  },
  {
   "cell_type": "code",
   "execution_count": null,
   "metadata": {},
   "outputs": [],
   "source": [
    "df_covid"
   ]
  },
  {
   "cell_type": "code",
   "execution_count": 6,
   "metadata": {},
   "outputs": [],
   "source": [
    "df_covid.to_csv('/data/covid/model_ICU_care/data/2020_0701_covid_hospid_icd.csv', index=False)"
   ]
  },
  {
   "cell_type": "markdown",
   "metadata": {},
   "source": [
    "## Check against labs"
   ]
  },
  {
   "cell_type": "code",
   "execution_count": 7,
   "metadata": {},
   "outputs": [],
   "source": [
    "df_labs = pd.read_csv('/data/covid/acute_dyspnea_data/2020_0701/labs.csv')"
   ]
  },
  {
   "cell_type": "code",
   "execution_count": null,
   "metadata": {},
   "outputs": [],
   "source": [
    "df_labs"
   ]
  },
  {
   "cell_type": "code",
   "execution_count": 9,
   "metadata": {},
   "outputs": [],
   "source": [
    "df_lab_covid = df_labs[df_labs['result_name'].str.contains('COVID')]"
   ]
  },
  {
   "cell_type": "code",
   "execution_count": 10,
   "metadata": {},
   "outputs": [
    {
     "data": {
      "text/html": [
       "<div>\n",
       "<style scoped>\n",
       "    .dataframe tbody tr th:only-of-type {\n",
       "        vertical-align: middle;\n",
       "    }\n",
       "\n",
       "    .dataframe tbody tr th {\n",
       "        vertical-align: top;\n",
       "    }\n",
       "\n",
       "    .dataframe thead th {\n",
       "        text-align: right;\n",
       "    }\n",
       "</style>\n",
       "<table border=\"1\" class=\"dataframe\">\n",
       "  <thead>\n",
       "    <tr style=\"text-align: right;\">\n",
       "      <th></th>\n",
       "      <th>result_termid</th>\n",
       "      <th>result_name</th>\n",
       "    </tr>\n",
       "  </thead>\n",
       "  <tbody>\n",
       "    <tr>\n",
       "      <th>1639682</th>\n",
       "      <td>703605</td>\n",
       "      <td>COVID</td>\n",
       "    </tr>\n",
       "    <tr>\n",
       "      <th>1639684</th>\n",
       "      <td>703606</td>\n",
       "      <td>Novel Coronavirus (COVID-19) Result:</td>\n",
       "    </tr>\n",
       "    <tr>\n",
       "      <th>1637898</th>\n",
       "      <td>703699</td>\n",
       "      <td>COVID Comment</td>\n",
       "    </tr>\n",
       "    <tr>\n",
       "      <th>1637897</th>\n",
       "      <td>703725</td>\n",
       "      <td>ER Novel Coronavirus (COVID-19), PCR</td>\n",
       "    </tr>\n",
       "    <tr>\n",
       "      <th>4313861</th>\n",
       "      <td>703786</td>\n",
       "      <td>COVID Interpretation</td>\n",
       "    </tr>\n",
       "  </tbody>\n",
       "</table>\n",
       "</div>"
      ],
      "text/plain": [
       "         result_termid                           result_name\n",
       "1639682         703605                                 COVID\n",
       "1639684         703606  Novel Coronavirus (COVID-19) Result:\n",
       "1637898         703699                         COVID Comment\n",
       "1637897         703725  ER Novel Coronavirus (COVID-19), PCR\n",
       "4313861         703786                  COVID Interpretation"
      ]
     },
     "execution_count": 10,
     "metadata": {},
     "output_type": "execute_result"
    }
   ],
   "source": [
    "df_lab_covid[['result_termid', 'result_name']].drop_duplicates().sort_values(by=['result_termid'])"
   ]
  },
  {
   "cell_type": "code",
   "execution_count": 11,
   "metadata": {},
   "outputs": [
    {
     "data": {
      "text/html": [
       "<div>\n",
       "<style scoped>\n",
       "    .dataframe tbody tr th:only-of-type {\n",
       "        vertical-align: middle;\n",
       "    }\n",
       "\n",
       "    .dataframe tbody tr th {\n",
       "        vertical-align: top;\n",
       "    }\n",
       "\n",
       "    .dataframe thead th {\n",
       "        text-align: right;\n",
       "    }\n",
       "</style>\n",
       "<table border=\"1\" class=\"dataframe\">\n",
       "  <thead>\n",
       "    <tr style=\"text-align: right;\">\n",
       "      <th></th>\n",
       "      <th>result_termid</th>\n",
       "      <th>result_name</th>\n",
       "      <th>value</th>\n",
       "    </tr>\n",
       "  </thead>\n",
       "  <tbody>\n",
       "    <tr>\n",
       "      <th>1990285</th>\n",
       "      <td>703606</td>\n",
       "      <td>Novel Coronavirus (COVID-19) Result:</td>\n",
       "      <td>Detected</td>\n",
       "    </tr>\n",
       "    <tr>\n",
       "      <th>1647162</th>\n",
       "      <td>703725</td>\n",
       "      <td>ER Novel Coronavirus (COVID-19), PCR</td>\n",
       "      <td>Detected</td>\n",
       "    </tr>\n",
       "  </tbody>\n",
       "</table>\n",
       "</div>"
      ],
      "text/plain": [
       "         result_termid                           result_name      value\n",
       "1990285         703606  Novel Coronavirus (COVID-19) Result:   Detected\n",
       "1647162         703725  ER Novel Coronavirus (COVID-19), PCR   Detected"
      ]
     },
     "execution_count": 11,
     "metadata": {},
     "output_type": "execute_result"
    }
   ],
   "source": [
    "df_lab_covid[['result_termid', 'result_name', 'value']].sort_values(by=['result_termid', 'value']).drop_duplicates(subset=['result_termid', 'result_name']).iloc[[1,3]]"
   ]
  },
  {
   "cell_type": "code",
   "execution_count": null,
   "metadata": {},
   "outputs": [],
   "source": [
    "df_lab_covid"
   ]
  },
  {
   "cell_type": "code",
   "execution_count": 13,
   "metadata": {},
   "outputs": [
    {
     "data": {
      "text/plain": [
       "True"
      ]
     },
     "execution_count": 13,
     "metadata": {},
     "output_type": "execute_result"
    }
   ],
   "source": [
    "# Checks if everyone with a \"COVID comment\" or \"COVID\" (img links) also has the main COVID lab result(s)\n",
    "set(df_lab_covid[df_lab_covid['result_termid'].isin([703605, 703699])]['hosp_id'].unique()) <= set(df_lab_covid[~df_lab_covid['result_termid'].isin([703605, 703699])]['hosp_id'].unique())"
   ]
  },
  {
   "cell_type": "code",
   "execution_count": 14,
   "metadata": {},
   "outputs": [],
   "source": [
    "uniq_vals = {}\n",
    "for termid in [703606, 703725]:\n",
    "    records = df_lab_covid.query('result_termid == @termid')\n",
    "    uniq_vals[termid] = sorted(records['value'].str.strip().unique())"
   ]
  },
  {
   "cell_type": "code",
   "execution_count": 15,
   "metadata": {},
   "outputs": [
    {
     "data": {
      "text/plain": [
       "{703606: ['Detected', 'Invalid', 'Not detected'],\n",
       " 703725: ['Detected', 'Invalid', 'Not detected']}"
      ]
     },
     "execution_count": 15,
     "metadata": {},
     "output_type": "execute_result"
    }
   ],
   "source": [
    "uniq_vals"
   ]
  },
  {
   "cell_type": "code",
   "execution_count": 16,
   "metadata": {},
   "outputs": [],
   "source": [
    "df_covid = df_labs[df_labs['result_termid'].isin([703606, 703725])].sort_values(by=['hosp_id', 'result_termid', 'value'])"
   ]
  },
  {
   "cell_type": "code",
   "execution_count": 17,
   "metadata": {},
   "outputs": [],
   "source": [
    "df_covid['value'] = df_covid['value'].str.strip()"
   ]
  },
  {
   "cell_type": "code",
   "execution_count": null,
   "metadata": {},
   "outputs": [],
   "source": [
    "df_covid"
   ]
  },
  {
   "cell_type": "code",
   "execution_count": 19,
   "metadata": {},
   "outputs": [],
   "source": [
    "df_final = df_covid.drop_duplicates(subset=['hosp_id', 'result_termid'], keep='first')"
   ]
  },
  {
   "cell_type": "code",
   "execution_count": null,
   "metadata": {},
   "outputs": [],
   "source": [
    "df_final"
   ]
  },
  {
   "cell_type": "code",
   "execution_count": 29,
   "metadata": {},
   "outputs": [],
   "source": [
    "df_final.to_csv('/data/covid/model_ICU_care/data/2020_0701_covid_hospid_labs_tested.csv')"
   ]
  },
  {
   "cell_type": "code",
   "execution_count": 21,
   "metadata": {},
   "outputs": [],
   "source": [
    "df_pos = df_final[df_final['value'] == 'Detected'].drop_duplicates(subset=['hosp_id'])"
   ]
  },
  {
   "cell_type": "code",
   "execution_count": null,
   "metadata": {},
   "outputs": [],
   "source": [
    "df_pos"
   ]
  },
  {
   "cell_type": "code",
   "execution_count": 28,
   "metadata": {},
   "outputs": [],
   "source": [
    "df_pos.to_csv('/data/covid/model_ICU_care/data/2020_0701_covid_hospid_labs_pos.csv')"
   ]
  },
  {
   "cell_type": "code",
   "execution_count": 24,
   "metadata": {},
   "outputs": [],
   "source": [
    "# Relies on this sorted order to drop records with a priority Detected > everything else\n",
    "df_final = df_covid[['hosp_id', 'result_termid', 'value']].drop_duplicates(subset=['hosp_id', 'result_termid'], keep='first')\n",
    "df_final = df_final.set_index(['hosp_id', 'result_termid']).unstack()\n",
    "df_final.columns = df_final.columns.droplevel(0)"
   ]
  },
  {
   "cell_type": "code",
   "execution_count": 25,
   "metadata": {},
   "outputs": [],
   "source": [
    "df_flag = (df_final == 'Detected').fillna(False).astype(int)\n",
    "# df_flag = df_flag.sum(axis=1).rename('COVID_flag').to_frame()"
   ]
  },
  {
   "cell_type": "code",
   "execution_count": null,
   "metadata": {},
   "outputs": [],
   "source": [
    "df_flag"
   ]
  },
  {
   "cell_type": "code",
   "execution_count": 27,
   "metadata": {},
   "outputs": [
    {
     "data": {
      "text/plain": [
       "385"
      ]
     },
     "execution_count": 27,
     "metadata": {},
     "output_type": "execute_result"
    }
   ],
   "source": [
    "df_flag.max(axis=1).sum()"
   ]
  },
  {
   "cell_type": "code",
   "execution_count": null,
   "metadata": {},
   "outputs": [],
   "source": []
  }
 ],
 "metadata": {
  "kernelspec": {
   "display_name": "Python 3",
   "language": "python",
   "name": "python3"
  },
  "language_info": {
   "codemirror_mode": {
    "name": "ipython",
    "version": 3
   },
   "file_extension": ".py",
   "mimetype": "text/x-python",
   "name": "python",
   "nbconvert_exporter": "python",
   "pygments_lexer": "ipython3",
   "version": "3.7.4"
  }
 },
 "nbformat": 4,
 "nbformat_minor": 4
}
