{
 "cells": [
  {
   "cell_type": "code",
   "execution_count": 1,
   "metadata": {},
   "outputs": [],
   "source": [
    "import joblib\n",
    "import pandas as pd\n",
    "import numpy as np\n",
    "import sparse\n",
    "import json"
   ]
  },
  {
   "cell_type": "markdown",
   "metadata": {},
   "source": [
    "### Flow 20"
   ]
  },
  {
   "cell_type": "code",
   "execution_count": 2,
   "metadata": {},
   "outputs": [],
   "source": [
    "df_time_series = joblib.load('out_flow/sdf_time_series,20.joblib')"
   ]
  },
  {
   "cell_type": "code",
   "execution_count": 3,
   "metadata": {},
   "outputs": [
    {
     "data": {
      "text/plain": [
       "654"
      ]
     },
     "execution_count": 3,
     "metadata": {},
     "output_type": "execute_result"
    }
   ],
   "source": [
    "discretization_bins = json.load(open('/data/covid/process_data/NEW-flow/out_flow/discretization.json', 'r'))\n",
    "feature_names = json.load(open('/data/covid/process_data/NEW-flow/out_flow/X_all.feature_names.json', 'r'))\n",
    "len(discretization_bins)"
   ]
  },
  {
   "cell_type": "code",
   "execution_count": 4,
   "metadata": {},
   "outputs": [],
   "source": [
    "cols_useful = list(discretization_bins.keys())\n",
    "df_time_series = df_time_series[cols_useful]"
   ]
  },
  {
   "cell_type": "code",
   "execution_count": null,
   "metadata": {},
   "outputs": [],
   "source": [
    "df_time_series"
   ]
  },
  {
   "cell_type": "code",
   "execution_count": 6,
   "metadata": {},
   "outputs": [],
   "source": [
    "ddf = df_time_series.sparse.to_dense()"
   ]
  },
  {
   "cell_type": "code",
   "execution_count": null,
   "metadata": {},
   "outputs": [],
   "source": []
  },
  {
   "cell_type": "code",
   "execution_count": 7,
   "metadata": {},
   "outputs": [],
   "source": [
    "from steps_2 import *\n",
    "from helpers import *"
   ]
  },
  {
   "cell_type": "code",
   "execution_count": 8,
   "metadata": {},
   "outputs": [],
   "source": [
    "df = ddf"
   ]
  },
  {
   "cell_type": "raw",
   "metadata": {},
   "source": [
    "df_by_cols = [df[col] for col in df.columns]"
   ]
  },
  {
   "cell_type": "code",
   "execution_count": 9,
   "metadata": {},
   "outputs": [
    {
     "name": "stderr",
     "output_type": "stream",
     "text": [
      "100%|██████████| 654/654 [11:32<00:00,  1.06s/it]\n",
      "100%|██████████| 654/654 [10:36<00:00,  1.03it/s]\n"
     ]
    }
   ],
   "source": [
    "pool = multiprocessing.Pool(multiprocessing.cpu_count())\n",
    "out_0 = list(tqdm(pool.imap_unordered(\n",
    "    smart_qcut_bins,\n",
    "    [(df[col], discretization_bins[col]) for col in df.columns]), total=len(df.columns)\n",
    "))\n",
    "cols_data, dis_bins = zip(*out_0)\n",
    "out = list(tqdm(pool.imap_unordered(dummify, cols_data), total=len(df.columns)\n",
    "))\n",
    "pool.close()\n",
    "pool.join()"
   ]
  },
  {
   "cell_type": "raw",
   "metadata": {},
   "source": [
    "out_0 = [smart_qcut_bins(x, discretization_bins[x.name]) for x in tqdm(df_by_cols)]\n",
    "cols_data, dis_bins = zip(*out_0)\n",
    "out = [dummify(z) for z in tqdm(cols_data)]"
   ]
  },
  {
   "cell_type": "raw",
   "metadata": {},
   "source": [
    "time_invariant_features = pd.concat(out, axis=1).sort_index(axis=1)\n",
    "feature_names_all = time_invariant_features.columns.values\n",
    "sdf = time_invariant_features.astype(pd.SparseDtype(int, fill_value=0))\n",
    "s_ = sparse.COO(sdf.sparse.to_coo())"
   ]
  },
  {
   "cell_type": "code",
   "execution_count": 10,
   "metadata": {},
   "outputs": [],
   "source": [
    "df_features = pd.concat(out, axis=1).sort_index(axis=1)"
   ]
  },
  {
   "cell_type": "code",
   "execution_count": 11,
   "metadata": {},
   "outputs": [],
   "source": [
    "# Drop any values='missing' for now\n",
    "df_features = df_features.loc[:, [col for col in df_features.columns if 'missing' not in col]]"
   ]
  },
  {
   "cell_type": "code",
   "execution_count": 12,
   "metadata": {},
   "outputs": [
    {
     "data": {
      "text/plain": [
       "False"
      ]
     },
     "execution_count": 12,
     "metadata": {},
     "output_type": "execute_result"
    }
   ],
   "source": [
    "# Make sure same features\n",
    "set(df_features.columns) <= set(feature_names)"
   ]
  },
  {
   "cell_type": "code",
   "execution_count": 13,
   "metadata": {},
   "outputs": [
    {
     "data": {
      "text/plain": [
       "{'_307930_value_Referred to Physician Advisor',\n",
       " '_307968_value_VTZ',\n",
       " '_311250_value_Sterile water',\n",
       " '_311353_value_Bubbling in water seal chamber;No bubbling in wate',\n",
       " '_311353_value_Bubbling in water seal chamber;Other',\n",
       " '_311951_value_Left Naris',\n",
       " '_311951_value_Right Naris',\n",
       " '_314803_value_WDL;ex',\n",
       " '_314803_value_WDL;intact',\n",
       " '_314803_value_WDL;other',\n",
       " '_314803_value_WDL;red nonblanchable',\n",
       " '_314803_value_ex',\n",
       " '_314803_value_ex;WDL',\n",
       " '_314803_value_ex;intact;red blanchable',\n",
       " '_314803_value_ex;other',\n",
       " '_314803_value_ex;red blanchable',\n",
       " '_314803_value_intact',\n",
       " '_314803_value_not intact (See Wound Documentation)',\n",
       " '_314803_value_other;WDL',\n",
       " '_314803_value_other;red blanchable',\n",
       " '_314803_value_red blanchable',\n",
       " '_314803_value_red blanchable;other',\n",
       " '_314803_value_red nonblanchable',\n",
       " '_315636_value_Yes, Mech Vent',\n",
       " '_317787_value_WDL;Erythema',\n",
       " '_317787_value_WDL;Leaking',\n",
       " '_320268_value_Newborn',\n",
       " '_334921_value_Other;ResMed S9',\n",
       " '_503085_value_Unable to Screen - age',\n",
       " '_521882_value_New NNTx order after review',\n",
       " '_521882_value_New order and result after review',\n",
       " '_672574_value_New or worsening: altered mental status',\n",
       " '_672574_value_New or worsening: altered mental status;New or wor',\n",
       " '_672574_value_New or worsening: low urine output that is concern',\n",
       " '_672574_value_New or worsening: oxygen requirements',\n",
       " '_672574_value_New or worsening: oxygen requirements;New or worse',\n",
       " '_672574_value_None of these;New or worsening: oxygen requirement',\n",
       " '_672576_value_Yes'}"
      ]
     },
     "execution_count": 13,
     "metadata": {},
     "output_type": "execute_result"
    }
   ],
   "source": [
    "set(df_features.columns) - set(feature_names)"
   ]
  },
  {
   "cell_type": "code",
   "execution_count": 14,
   "metadata": {},
   "outputs": [],
   "source": [
    "df_features = df_features.reindex(columns=feature_names, fill_value=0)"
   ]
  },
  {
   "cell_type": "code",
   "execution_count": null,
   "metadata": {},
   "outputs": [],
   "source": [
    "df_features"
   ]
  },
  {
   "cell_type": "code",
   "execution_count": 16,
   "metadata": {},
   "outputs": [],
   "source": [
    "sdf = df_features.astype(pd.SparseDtype(int, fill_value=0))\n",
    "X_all = sparse.COO(sdf.sparse.to_coo())"
   ]
  },
  {
   "cell_type": "code",
   "execution_count": 17,
   "metadata": {},
   "outputs": [],
   "source": [
    "sparse.save_npz('out_flow/X_all.20.npz', X_all)\n",
    "df_time_series[[]].to_csv('out_flow/X_all.20.IDs.csv')"
   ]
  },
  {
   "cell_type": "code",
   "execution_count": 18,
   "metadata": {},
   "outputs": [
    {
     "data": {
      "text/plain": [
       "0.020741870349339445"
      ]
     },
     "execution_count": 18,
     "metadata": {},
     "output_type": "execute_result"
    }
   ],
   "source": [
    "X_all.density"
   ]
  },
  {
   "cell_type": "code",
   "execution_count": null,
   "metadata": {},
   "outputs": [],
   "source": []
  }
 ],
 "metadata": {
  "kernelspec": {
   "display_name": "Python 3",
   "language": "python",
   "name": "python3"
  },
  "language_info": {
   "codemirror_mode": {
    "name": "ipython",
    "version": 3
   },
   "file_extension": ".py",
   "mimetype": "text/x-python",
   "name": "python",
   "nbconvert_exporter": "python",
   "pygments_lexer": "ipython3",
   "version": "3.7.4"
  }
 },
 "nbformat": 4,
 "nbformat_minor": 4
}
