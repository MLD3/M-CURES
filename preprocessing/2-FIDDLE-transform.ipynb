{
 "cells": [
  {
   "cell_type": "code",
   "execution_count": 1,
   "metadata": {},
   "outputs": [],
   "source": [
    "!mkdir -p sample_output/out_meds\n",
    "!mkdir -p sample_output/out_labs\n",
    "!mkdir -p sample_output/out_vitals\n",
    "!mkdir -p sample_output/out_flow"
   ]
  },
  {
   "cell_type": "code",
   "execution_count": 2,
   "metadata": {},
   "outputs": [
    {
     "name": "stdout",
     "output_type": "stream",
     "text": [
      "Input data file: ./sample_input/vitals.csv\n",
      "\n",
      "Input arguments:\n",
      "    T      = 240\n",
      "    dt     = 240.0\n",
      "    θ₁     = 0.001\n",
      "    θ₂     = 0.001\n",
      "    θ_freq = 1.0\n",
      "    k      = 3 ['min', 'max', 'mean']\n",
      "binarize = yes\n",
      "\n",
      "N = 3\n",
      "L = 1\n",
      "\n",
      "\n",
      "--------------------------------------------------------------------------------\n",
      "2-B) Transform time-dependent data\n",
      "--------------------------------------------------------------------------------\n",
      "Total variables    : 6\n",
      "Frequent variables : ['respiratoryrate', 'heartrate', 'temperature', 'sbp', 'dbp', 'spo2']\n",
      "M₁ = 6\n",
      "M₂ = 0\n",
      "k  = 3 ['min', 'max', 'mean']\n",
      "\n",
      "Transforming each example...\n",
      "Batches of size 1000:  1\n",
      "100%|█████████████████████████████████████████████| 1/1 [00:00<00:00,  3.12it/s]\n",
      "\n",
      "Parallel processing done\n",
      "Filled no-data examples done\n",
      "\n",
      "(N × L × ^D) table :\t (3, 1, 30)\n",
      "Time elapsed: 0.866692 seconds\n"
     ]
    }
   ],
   "source": [
    "!python FIDDLE-transform-vitals.py"
   ]
  },
  {
   "cell_type": "code",
   "execution_count": null,
   "metadata": {},
   "outputs": [],
   "source": []
  },
  {
   "cell_type": "markdown",
   "metadata": {},
   "source": [
    "## Work-in-progress"
   ]
  },
  {
   "cell_type": "code",
   "execution_count": 2,
   "metadata": {},
   "outputs": [
    {
     "name": "stdout",
     "output_type": "stream",
     "text": [
      "Input data file: ./data_input/labs.p\n",
      "\n",
      "Input arguments:\n",
      "    T      = 240\n",
      "    dt     = 240.0\n",
      "    θ₁     = 0.001\n",
      "    θ₂     = 0.001\n",
      "    θ_freq = 1.0\n",
      "    k      = 3 ['min', 'max', 'mean']\n",
      "binarize = yes\n",
      "\n",
      "N = 459902\n",
      "L = 1\n",
      "\n",
      "Done unstacking\n",
      "Done reindexing\n",
      "Time elapsed: 265.299769 seconds\n"
     ]
    }
   ],
   "source": [
    "!python FIDDLE-transform-labs.py"
   ]
  },
  {
   "cell_type": "code",
   "execution_count": 3,
   "metadata": {},
   "outputs": [
    {
     "name": "stdout",
     "output_type": "stream",
     "text": [
      "Input data file: ./data_input/meds.p\n",
      "\n",
      "Input arguments:\n",
      "    T      = 240\n",
      "    dt     = 240.0\n",
      "    θ₁     = 0.001\n",
      "    θ₂     = 0.001\n",
      "    θ_freq = 1.0\n",
      "    k      = 3 ['min', 'max', 'mean']\n",
      "binarize = yes\n",
      "\n",
      "N = 459902\n",
      "L = 1\n",
      "\n",
      "Done unstacking\n",
      "Done reindexing\n",
      "Time elapsed: 701.482105 seconds\n"
     ]
    }
   ],
   "source": [
    "!python FIDDLE-transform-meds.py"
   ]
  },
  {
   "cell_type": "code",
   "execution_count": 4,
   "metadata": {},
   "outputs": [
    {
     "name": "stdout",
     "output_type": "stream",
     "text": [
      "Input data file: ./data_input/flow-20.p\n",
      "\n",
      "Input arguments:\n",
      "    T      = 240\n",
      "    dt     = 240.0\n",
      "    θ₁     = 0.001\n",
      "    θ₂     = 0.001\n",
      "    θ_freq = 1.0\n",
      "    k      = 3 ['min', 'max', 'mean']\n",
      "binarize = yes\n",
      "\n",
      "N = 459902\n",
      "L = 1\n",
      "\n",
      "Done unstacking\n",
      "Done reindexing\n",
      "Time elapsed: 103.720938 seconds\n",
      "Done! Time elapsed: 120.053329 seconds\n"
     ]
    }
   ],
   "source": [
    "!python FIDDLE-transform-flow.py"
   ]
  },
  {
   "cell_type": "code",
   "execution_count": null,
   "metadata": {},
   "outputs": [],
   "source": []
  }
 ],
 "metadata": {
  "kernelspec": {
   "display_name": "Python 3",
   "language": "python",
   "name": "python3"
  },
  "language_info": {
   "codemirror_mode": {
    "name": "ipython",
    "version": 3
   },
   "file_extension": ".py",
   "mimetype": "text/x-python",
   "name": "python",
   "nbconvert_exporter": "python",
   "pygments_lexer": "ipython3",
   "version": "3.7.4"
  }
 },
 "nbformat": 4,
 "nbformat_minor": 4
}
