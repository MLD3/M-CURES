{
 "cells": [
  {
   "cell_type": "code",
   "execution_count": null,
   "metadata": {},
   "outputs": [],
   "source": [
    "import pandas as pd\n",
    "import numpy as np\n",
    "import joblib\n",
    "import sklearn\n",
    "from sklearn import metrics, utils, ensemble\n",
    "from joblib import Parallel, delayed\n",
    "import time \n",
    "import warnings\n",
    "warnings.filterwarnings('ignore')\n",
    "from tqdm import tqdm "
   ]
  },
  {
   "cell_type": "code",
   "execution_count": null,
   "metadata": {},
   "outputs": [],
   "source": [
    "###########\n",
    "# TODO: CHANGE INSTITUTION NAME\n",
    "institution = 'INSTITUTION'"
   ]
  },
  {
   "cell_type": "code",
   "execution_count": null,
   "metadata": {},
   "outputs": [],
   "source": [
    "# Input:  {INSTITUTION}-MASTER.csv\n",
    "# Output: {INSTITUTION}_usecase2.csv"
   ]
  },
  {
   "cell_type": "code",
   "execution_count": null,
   "metadata": {},
   "outputs": [],
   "source": [
    "# Loads in data\n",
    "master = pd.read_csv('{}-MASTER.csv'.format(institution))\n",
    "\n",
    "req_cols = set(['hosp_id', 'y', 'y_score_fourvar', 'y_score_mcures',\n",
    "                'y_scores_four_lst', 'y_scores_mcures_lst', 'race', 'age', 'sex', 'ethnicity',\n",
    "                'outcome', 'outcome_time', 'admission_date',\n",
    "                'final_time_min'])\n",
    "\n",
    "master = master[req_cols]"
   ]
  },
  {
   "cell_type": "code",
   "execution_count": null,
   "metadata": {},
   "outputs": [],
   "source": [
    "from ast import literal_eval\n",
    "master[\"y_scores_mcures_lst_\"] = master[\"y_scores_mcures_lst\"].apply(literal_eval)\n",
    "master[\"y_scores_four_lst_\"] = master[\"y_scores_four_lst\"].apply(literal_eval)"
   ]
  },
  {
   "cell_type": "code",
   "execution_count": null,
   "metadata": {},
   "outputs": [],
   "source": [
    "## Compute cohort, label, and scores for secondary use case\n",
    "\n",
    "# cohort contains hospitalizations who have not met outcome or discharged at 48h\n",
    "in_second_case = (master['final_time_min'] > 2880).values\n",
    "master['in_second_use_case'] = in_second_case\n",
    "\n",
    "# scores considered: first 48h (12 windows) excluding zeroth window\n",
    "secondary_four = [np.mean(x[1:12]) if master['in_second_use_case'][i] else np.nan for i,x in enumerate(master['y_scores_four_lst_'].values)]\n",
    "mcures_four = [np.mean(x[1:12]) if master['in_second_use_case'][i] else np.nan for i,x in enumerate(master['y_scores_mcures_lst_'].values)]\n",
    "master['secondary_four'] = secondary_four\n",
    "master['secondary_mcures'] = mcures_four\n",
    "\n",
    "# secondary use case y value \n",
    "master['y_secondary'] = (1 - np.isnan(master['outcome_time'])).values"
   ]
  },
  {
   "cell_type": "code",
   "execution_count": null,
   "metadata": {},
   "outputs": [],
   "source": [
    "#Figure 4\n",
    "\n",
    "from tqdm import tqdm \n",
    "\n",
    "def bootstrap_fn(i, df, replace = True, val = 48):\n",
    "    df_Yte_agg = df.sample(frac = 1, replace=replace, random_state=i)\n",
    "    \n",
    "    scores = np.sort(df_Yte_agg['secondary_mcures'])\n",
    "    for s in scores: \n",
    "        curr = df_Yte_agg[df_Yte_agg['secondary_mcures'] <= s]\n",
    "        if 1 - curr['y_secondary'].mean() >= 0.95: \n",
    "            latest = curr\n",
    "    try: \n",
    "        discharged_all = latest.shape[0] / len(scores)\n",
    "        num_all = latest.shape[0]\n",
    "        total_days_all = np.sum((latest['final_time_min'] / (60 * 24)) - (val / 24))\n",
    "        \n",
    "        latest = latest[latest['y_secondary'] == 0]\n",
    "        discharged = latest.shape[0] / len(scores)\n",
    "        num = latest.shape[0]\n",
    "        total_days = np.sum((latest['final_time_min'] / (60 * 24)) - (val / 24))\n",
    "\n",
    "    except: \n",
    "        return 0, 0, 0, 0\n",
    "    \n",
    "    return discharged, total_days, discharged_all, total_days_all\n",
    "\n",
    "\n",
    "def get_roc_CI(df, val):\n",
    "    discharged, days, discharged_all, days_all = zip(*Parallel(n_jobs=10)(delayed(bootstrap_fn)(i, df, val) for i in range(1000)))\n",
    "    return discharged, days, discharged_all, days_all\n",
    "\n",
    "    \n",
    "secondary = master[master['in_second_use_case'] == True]\n",
    "\n",
    "import time \n",
    "\n",
    "now = time.time() \n",
    "\n",
    "discharged, days, discharged_all, days_all = get_roc_CI(secondary, 48)\n",
    "num_ex_usecase2 = secondary.shape[0]\n",
    "prop_outcome_usecase2 = secondary['y_secondary'].mean()\n",
    "\n",
    "df_Yte_agg = secondary\n",
    "    \n",
    "scores = np.sort(df_Yte_agg['secondary_mcures'])\n",
    "\n",
    "# Loop through all score thresholds from smallest to largest\n",
    "for s in scores: \n",
    "    curr = df_Yte_agg[df_Yte_agg['secondary_mcures'] <= s]\n",
    "    if 1 - curr['y_secondary'].mean() >= 0.95: \n",
    "        latest = curr # find the largest threshold with NPV >= 95%\n",
    "try: \n",
    "    # Predicted Negatives: proportion and days saved\n",
    "    non_bootstrap_discharged_all = latest.shape[0] / len(scores)\n",
    "    non_bootstrap_total_days_all = np.sum((latest['final_time_min'] / (60 * 24)) - (48 / 24))\n",
    "    \n",
    "    # True Negatives: proportion and days saved\n",
    "    latest = latest[latest['y_secondary'] == 0]\n",
    "    non_bootstrap_discharged = latest.shape[0] / len(scores)\n",
    "    num = latest.shape[0]\n",
    "    non_bootstrap_total_days = np.sum((latest['final_time_min'] / (60 * 24)) - (48 / 24))\n",
    "except: \n",
    "    non_bootstrap_discharged = 0\n",
    "    non_bootstrap_total_days = 0\n",
    "    non_bootstrap_discharged_all = 0\n",
    "    non_bootstrap_total_days_all = 0\n",
    "        \n",
    "\n",
    "print(time.time() - now)"
   ]
  },
  {
   "cell_type": "code",
   "execution_count": null,
   "metadata": {},
   "outputs": [],
   "source": [
    "D_results = []\n",
    "D_results.append({\n",
    "    'Institution': institution,    \n",
    "    # Figure 4\n",
    "    'days_saved_boostraps': list(days), \n",
    "    'discharged_boostraps': list(discharged),\n",
    "    'days_saved_all_boostraps': list(days_all), \n",
    "    'discharged_all_boostraps': list(discharged_all),\n",
    "    'N_use_case_2': num_ex_usecase2,\n",
    "    'perc_use_case_2': prop_outcome_usecase2,\n",
    "    'days_saved': non_bootstrap_total_days, \n",
    "    'discharged': non_bootstrap_discharged,\n",
    "    'discharged_all': non_bootstrap_discharged_all,\n",
    "    'days_saved_all': non_bootstrap_total_days_all,\n",
    "})"
   ]
  },
  {
   "cell_type": "code",
   "execution_count": null,
   "metadata": {},
   "outputs": [],
   "source": [
    "# Helper function for rounding numbers in nested list\n",
    "def round_nested_list(lst, num=3):\n",
    "    if isinstance(lst, str) or isinstance(lst, int):\n",
    "        return lst\n",
    "    elif isinstance(lst, float):\n",
    "        return round(lst, num) # '%.{}f'.format(num) %lst\n",
    "    else:\n",
    "        return [round_nested_list(i) for i in lst]"
   ]
  },
  {
   "cell_type": "code",
   "execution_count": null,
   "metadata": {},
   "outputs": [],
   "source": [
    "df_results = pd.DataFrame(D_results)\n",
    "\n",
    "# Round all numbers to 3 decimal places\n",
    "for col in df_results.columns:\n",
    "    df_results[col] = df_results[col].apply(round_nested_list)\n",
    "\n",
    "df_results.to_csv('{}_usecase2_.csv'.format(institution), index=False, float_format=\"%.3f\")"
   ]
  },
  {
   "cell_type": "code",
   "execution_count": null,
   "metadata": {},
   "outputs": [],
   "source": []
  }
 ],
 "metadata": {
  "kernelspec": {
   "display_name": "Python 3",
   "language": "python",
   "name": "python3"
  },
  "language_info": {
   "codemirror_mode": {
    "name": "ipython",
    "version": 3
   },
   "file_extension": ".py",
   "mimetype": "text/x-python",
   "name": "python",
   "nbconvert_exporter": "python",
   "pygments_lexer": "ipython3",
   "version": "3.8.8"
  }
 },
 "nbformat": 4,
 "nbformat_minor": 4
}
